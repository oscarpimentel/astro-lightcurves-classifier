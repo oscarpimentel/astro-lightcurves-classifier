{
 "cells": [
  {
   "cell_type": "code",
   "execution_count": null,
   "id": "5c46592a",
   "metadata": {},
   "outputs": [],
   "source": [
    "import sys\n",
    "sys.path.append('../fuzzy-tools') # or just install the module\n",
    "sys.path.append('../astro-lightcurves-handler') # or just install the module"
   ]
  },
  {
   "cell_type": "code",
   "execution_count": null,
   "id": "da63ae8f",
   "metadata": {},
   "outputs": [],
   "source": [
    "%load_ext autoreload\n",
    "%autoreload 2\n",
    "from lcclassifier.results.utils import get_model_names\n",
    "\n",
    "lcset_name = 'test'\n",
    "rootdir = 'save'\n",
    "method = 'spm-mcmc-estw'\n",
    "cfilename = f'survey=alerceZTFv7.1~bands=gr~mode=onlySNe~method={method}'\n",
    "kf = '1'\n",
    "\n",
    "model_names = get_model_names(rootdir, cfilename, kf, lcset_name)\n",
    "model_names"
   ]
  },
  {
   "cell_type": "code",
   "execution_count": null,
   "id": "0b5301b6",
   "metadata": {},
   "outputs": [],
   "source": [
    "%load_ext autoreload\n",
    "%autoreload 2\n",
    "import numpy as np\n",
    "import fuzzytools.files as ftfiles\n",
    "from fuzzytools.datascience import misclassifications\n",
    "import matplotlib.pyplot as plt\n",
    "\n",
    "model_name = 'mdl=ParallelTimeModAttn~input_dims=1~dummy_seft=1~m=24~kernel_size=1~heads=4~time_noise_window=6*24**-1~enc_emb=g64-g64.r64-r64~dec_emb=g1-g128.r1-r128~b=203~pb=.~bypass_synth=0~bypass_prob=0.0~ds_prob=0.1'\n",
    "rootdir = 'save/paper_v3'\n",
    "train_mode = 'fine-tuning'\n",
    "load_roodir = f'{rootdir}/{model_name}/{train_mode}/performance/{cfilename}'\n",
    "print(load_roodir)\n",
    "files, files_ids, kfs = ftfiles.gather_files_by_kfold(load_roodir, kf, lcset_name,\n",
    "    fext='d',\n",
    "    imbalanced_kf_mode='ignore', # error oversampling\n",
    "    )\n",
    "print(f'{files_ids}({len(files_ids)}#); {model_name}')\n",
    "\n",
    "file_idx = 0\n",
    "file = files[file_idx]\n",
    "thdays = file()['thdays']\n",
    "thday = thdays[-1]\n",
    "thdays_predictions = file()['thdays_predictions'][thday]\n",
    "y_pred_p = thdays_predictions['y_pred_p']\n",
    "y_true = thdays_predictions['y_true']\n",
    "class_names = file()['class_names']\n",
    "obj_ids = file()['lcobj_names']\n",
    "\n",
    "fig, axs, miss_objs_df = misclassifications.plot_misclassification_map(y_pred_p, y_true, class_names,\n",
    "    obj_ids=obj_ids,\n",
    "    #pred_prob_th=.8, # None .5\n",
    "    fontsize=12,\n",
    "    figsize=(20,18),\n",
    "    legend_loc='upper right',\n",
    "    #verbose=1,\n",
    "    also_show_correct_objs_txt=True,\n",
    "    )\n",
    "display(miss_objs_df)\n",
    "plt.show()"
   ]
  },
  {
   "cell_type": "code",
   "execution_count": null,
   "id": "f785032e",
   "metadata": {},
   "outputs": [],
   "source": [
    "txt = ''\n",
    "for miss_obj_id in miss_objs_df.index:\n",
    "    txt += f\"'{miss_obj_id}', \"\n",
    "print(f'deep_miss_obj_ids = [{txt}]')"
   ]
  }
 ],
 "metadata": {
  "kernelspec": {
   "display_name": "Python 3",
   "language": "python",
   "name": "python3"
  },
  "language_info": {
   "codemirror_mode": {
    "name": "ipython",
    "version": 3
   },
   "file_extension": ".py",
   "mimetype": "text/x-python",
   "name": "python",
   "nbconvert_exporter": "python",
   "pygments_lexer": "ipython3",
   "version": "3.7.10"
  }
 },
 "nbformat": 4,
 "nbformat_minor": 5
}
