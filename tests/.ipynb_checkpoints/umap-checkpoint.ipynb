{
 "cells": [
  {
   "cell_type": "code",
   "execution_count": 1,
   "id": "f7ad5970",
   "metadata": {},
   "outputs": [],
   "source": [
    "import sys\n",
    "sys.path.append('../') # or just install the module\n",
    "sys.path.append('../../fuzzy-torch') # or just install the module\n",
    "sys.path.append('../../fuzzy-tools') # or just install the module\n",
    "sys.path.append('../../astro-lightcurves-handler') # or just install the module"
   ]
  },
  {
   "cell_type": "code",
   "execution_count": 17,
   "id": "15cb93a7",
   "metadata": {},
   "outputs": [
    {
     "name": "stdout",
     "output_type": "stream",
     "text": [
      "The autoreload extension is already loaded. To reload it, use:\n",
      "  %reload_ext autoreload\n"
     ]
    },
    {
     "data": {
      "text/plain": [
       "array([[ 5.120721  ,  2.2737167 ],\n",
       "       [ 4.412116  , -0.54594815],\n",
       "       [ 0.07056872,  4.3193274 ],\n",
       "       ...,\n",
       "       [ 1.918189  ,  2.1345015 ],\n",
       "       [ 1.6204128 ,  5.141564  ],\n",
       "       [-1.4278096 ,  3.540174  ]], dtype=float32)"
      ]
     },
     "execution_count": 17,
     "metadata": {},
     "output_type": "execute_result"
    }
   ],
   "source": [
    "%load_ext autoreload\n",
    "%autoreload 2\n",
    "from sklearn.preprocessing import QuantileTransformer, StandardScaler\n",
    "from sklearn.decomposition import PCA, KernelPCA, FastICA\n",
    "from sklearn.manifold import TSNE\n",
    "from umap import UMAP\n",
    "from fuzzytools.datascience.dim_reductors import DimReductor\n",
    "import numpy as np\n",
    "\n",
    "random_state = 0\n",
    "n = 1000\n",
    "x = np.random.uniform(0, .1, size=(n,100))\n",
    "scaler = StandardScaler()\n",
    "red_map = UMAP(\n",
    "    n_components=2,\n",
    "    metric='euclidean',\n",
    "    n_neighbors=int(5),\n",
    "    min_dist=.01,\n",
    "    random_state=random_state,\n",
    "    transform_seed=random_state,\n",
    "    )\n",
    "dim_reductor = DimReductor(scaler, red_map,\n",
    "    inter_pca_dims=10,\n",
    "    )\n",
    "dim_reductor.fit(x)\n",
    "z = dim_reductor.transform(x)\n",
    "z"
   ]
  },
  {
   "cell_type": "code",
   "execution_count": 18,
   "id": "0831716c",
   "metadata": {},
   "outputs": [
    {
     "data": {
      "text/plain": [
       "array([[ 5.120721  ,  2.2737167 ],\n",
       "       [ 4.412116  , -0.54594815],\n",
       "       [ 0.07056872,  4.3193274 ],\n",
       "       ...,\n",
       "       [ 1.918189  ,  2.1345015 ],\n",
       "       [ 1.6204128 ,  5.141564  ],\n",
       "       [-1.4278096 ,  3.540174  ]], dtype=float32)"
      ]
     },
     "execution_count": 18,
     "metadata": {},
     "output_type": "execute_result"
    }
   ],
   "source": [
    "z = dim_reductor.transform(x)\n",
    "z"
   ]
  },
  {
   "cell_type": "code",
   "execution_count": 14,
   "id": "2e4e9ecf",
   "metadata": {},
   "outputs": [
    {
     "data": {
      "text/plain": [
       "array([[ 1.338856  ,  0.3970636 ],\n",
       "       [ 1.4447285 , -1.3986973 ],\n",
       "       [ 2.4044805 , -0.55716753],\n",
       "       ...,\n",
       "       [ 5.4601035 ,  1.3505667 ],\n",
       "       [ 1.2954812 , -1.5399494 ],\n",
       "       [ 4.5559998 , -0.39022884]], dtype=float32)"
      ]
     },
     "execution_count": 14,
     "metadata": {},
     "output_type": "execute_result"
    }
   ],
   "source": [
    "z = dim_reductor.transform(x)\n",
    "z"
   ]
  },
  {
   "cell_type": "code",
   "execution_count": null,
   "id": "0c7d2e6f",
   "metadata": {},
   "outputs": [],
   "source": []
  }
 ],
 "metadata": {
  "kernelspec": {
   "display_name": "Python 3",
   "language": "python",
   "name": "python3"
  },
  "language_info": {
   "codemirror_mode": {
    "name": "ipython",
    "version": 3
   },
   "file_extension": ".py",
   "mimetype": "text/x-python",
   "name": "python",
   "nbconvert_exporter": "python",
   "pygments_lexer": "ipython3",
   "version": "3.7.10"
  }
 },
 "nbformat": 4,
 "nbformat_minor": 5
}
