{
 "cells": [
  {
   "cell_type": "code",
   "execution_count": 1,
   "id": "4fef5ae8",
   "metadata": {},
   "outputs": [],
   "source": [
    "import sys\n",
    "sys.path.append('../') # or just install the module\n",
    "sys.path.append('../../fuzzy-torch') # or just install the module\n",
    "sys.path.append('../../fuzzy-tools') # or just install the module\n",
    "sys.path.append('../../astro-lightcurves-handler') # or just install the module"
   ]
  },
  {
   "cell_type": "code",
   "execution_count": 19,
   "id": "bba2073c",
   "metadata": {},
   "outputs": [
    {
     "name": "stdout",
     "output_type": "stream",
     "text": [
      "The autoreload extension is already loaded. To reload it, use:\n",
      "  %reload_ext autoreload\n"
     ]
    },
    {
     "data": {
      "text/plain": [
       "array([[ 5.0131273,  4.2808456],\n",
       "       [ 5.623949 ,  4.483803 ],\n",
       "       [10.524104 ,  3.2499943],\n",
       "       ...,\n",
       "       [ 5.6450214,  3.4948657],\n",
       "       [ 8.546334 ,  5.7055   ],\n",
       "       [ 6.046563 ,  1.2429343]], dtype=float32)"
      ]
     },
     "execution_count": 19,
     "metadata": {},
     "output_type": "execute_result"
    }
   ],
   "source": [
    "%load_ext autoreload\n",
    "%autoreload 2\n",
    "from sklearn.preprocessing import QuantileTransformer, StandardScaler\n",
    "from sklearn.decomposition import PCA, KernelPCA, FastICA\n",
    "from sklearn.manifold import TSNE\n",
    "from umap import UMAP\n",
    "from fuzzytools.datascience.dim_reductors import DimReductor\n",
    "import numpy as np\n",
    "\n",
    "random_state = 0\n",
    "n = 1000\n",
    "x = np.random.uniform(0, .1, size=(n,100))\n",
    "scaler = StandardScaler()\n",
    "red_map = UMAP(\n",
    "    n_components=2,\n",
    "    metric='euclidean',\n",
    "    n_neighbors=int(5),\n",
    "    min_dist=.01,\n",
    "    random_state=random_state,\n",
    "    transform_seed=random_state,\n",
    "    )\n",
    "dim_reductor = DimReductor(scaler, red_map,\n",
    "    inter_pca_dims=10,\n",
    "    )\n",
    "dim_reductor.fit(x)\n",
    "z = dim_reductor.transform(x)\n",
    "z"
   ]
  },
  {
   "cell_type": "code",
   "execution_count": 22,
   "id": "f8c0c5a8",
   "metadata": {},
   "outputs": [
    {
     "data": {
      "text/plain": [
       "array([[ 5.0131273,  4.2808456],\n",
       "       [ 5.623949 ,  4.483803 ],\n",
       "       [10.524104 ,  3.2499943],\n",
       "       ...,\n",
       "       [ 5.6450214,  3.4948657],\n",
       "       [ 8.546334 ,  5.7055   ],\n",
       "       [ 6.046563 ,  1.2429343]], dtype=float32)"
      ]
     },
     "execution_count": 22,
     "metadata": {},
     "output_type": "execute_result"
    }
   ],
   "source": [
    "z = dim_reductor.transform(x)\n",
    "z"
   ]
  },
  {
   "cell_type": "code",
   "execution_count": 14,
   "id": "f3d26414",
   "metadata": {},
   "outputs": [
    {
     "data": {
      "text/plain": [
       "array([[ 1.338856  ,  0.3970636 ],\n",
       "       [ 1.4447285 , -1.3986973 ],\n",
       "       [ 2.4044805 , -0.55716753],\n",
       "       ...,\n",
       "       [ 5.4601035 ,  1.3505667 ],\n",
       "       [ 1.2954812 , -1.5399494 ],\n",
       "       [ 4.5559998 , -0.39022884]], dtype=float32)"
      ]
     },
     "execution_count": 14,
     "metadata": {},
     "output_type": "execute_result"
    }
   ],
   "source": [
    "z = dim_reductor.transform(x)\n",
    "z"
   ]
  },
  {
   "cell_type": "code",
   "execution_count": null,
   "id": "6202b47a",
   "metadata": {},
   "outputs": [],
   "source": []
  }
 ],
 "metadata": {
  "kernelspec": {
   "display_name": "Python 3",
   "language": "python",
   "name": "python3"
  },
  "language_info": {
   "codemirror_mode": {
    "name": "ipython",
    "version": 3
   },
   "file_extension": ".py",
   "mimetype": "text/x-python",
   "name": "python",
   "nbconvert_exporter": "python",
   "pygments_lexer": "ipython3",
   "version": "3.7.10"
  }
 },
 "nbformat": 4,
 "nbformat_minor": 5
}
