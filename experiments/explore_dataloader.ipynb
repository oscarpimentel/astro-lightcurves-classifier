{
 "cells": [
  {
   "cell_type": "code",
   "execution_count": 1,
   "metadata": {},
   "outputs": [],
   "source": [
    "import sys\n",
    "sys.path.append('../') # or just install the module\n",
    "sys.path.append('../../fuzzy-torch') # or just install the module\n",
    "sys.path.append('../../fuzzy-tools') # or just install the module\n",
    "sys.path.append('../../astro-lightcurves-handler') # or just install the module"
   ]
  },
  {
   "cell_type": "code",
   "execution_count": 2,
   "metadata": {},
   "outputs": [
    {
     "name": "stdout",
     "output_type": "stream",
     "text": [
      "────────────────────────────────────────────────────────────────────────────────────────────────────\n",
      "found filedirs: (../../surveys-save/)\n",
      "(0) - ../../surveys-save//survey=alerceZTFv7.1~bands=gr~mode=onlySNe.splcds - 16.973[mbs]\n",
      "(1) - ../../surveys-save//survey=alerceZTFv7.1~bands=gr~mode=onlySNe~method=spm-mcmc-estw.splcds - 225.085[mbs]\n",
      "(2) - ../../surveys-save/wiib/survey=alerceZTFv7.1~bands=gr~mode=onlySNe~method=spm-mcmc-fstw.splcds - 226.801[mbs]\n",
      "(3) - ../../surveys-save/wiib/survey=alerceZTFv7.1~bands=gr~mode=onlySNe.splcds - 17.073[mbs]\n",
      "(4) - ../../surveys-save/wiib/survey=alerceZTFv7.1~bands=gr~mode=onlySNe~method=bspline-fstw.splcds - 226.809[mbs]\n",
      "(5) - ../../surveys-save/wiib/survey=alerceZTFv7.1~bands=gr~mode=onlySNe~method=spm-mcmc-estw.splcds - 226.818[mbs]\n",
      "(6) - ../../surveys-save/wiib/survey=alerceZTFv7.1~bands=gr~mode=onlySNe~method=linear-fstw.splcds - 226.784[mbs]\n",
      "────────────────────────────────────────────────────────────────────────────────────────────────────\n",
      "filedirs after searching with filters: (../../surveys-save/)\n",
      "(0) - ../../surveys-save//survey=alerceZTFv7.1~bands=gr~mode=onlySNe.splcds - 16.973[mbs]\n",
      "(1) - ../../surveys-save//survey=alerceZTFv7.1~bands=gr~mode=onlySNe~method=spm-mcmc-estw.splcds - 225.085[mbs]\n",
      "(2) - ../../surveys-save/wiib/survey=alerceZTFv7.1~bands=gr~mode=onlySNe~method=spm-mcmc-fstw.splcds - 226.801[mbs]\n",
      "(3) - ../../surveys-save/wiib/survey=alerceZTFv7.1~bands=gr~mode=onlySNe.splcds - 17.073[mbs]\n",
      "(4) - ../../surveys-save/wiib/survey=alerceZTFv7.1~bands=gr~mode=onlySNe~method=bspline-fstw.splcds - 226.809[mbs]\n",
      "(5) - ../../surveys-save/wiib/survey=alerceZTFv7.1~bands=gr~mode=onlySNe~method=spm-mcmc-estw.splcds - 226.818[mbs]\n",
      "(6) - ../../surveys-save/wiib/survey=alerceZTFv7.1~bands=gr~mode=onlySNe~method=linear-fstw.splcds - 226.784[mbs]\n",
      "────────────────────────────────────────────────────────────────────────────────────────────────────\n"
     ]
    }
   ],
   "source": [
    "from fuzzytools.files import search_for_filedirs\n",
    "from lchandler import _C as _C\n",
    "\n",
    "surveys_rootdir = '../../surveys-save/'\n",
    "filedirs = search_for_filedirs(surveys_rootdir, fext=_C.EXT_SPLIT_LIGHTCURVE)"
   ]
  },
  {
   "cell_type": "code",
   "execution_count": 3,
   "metadata": {
    "scrolled": true
   },
   "outputs": [
    {
     "name": "stdout",
     "output_type": "stream",
     "text": [
      "LCDataset:\n",
      "[3@train; samples 1,185]\n",
      "(.) obs_samples=32,461; min_len=6; max_dur=538.8[days]; dur(p50)=52.8[days]; cadence(p50)=1.0[days]\n",
      "(g) obs_samples=14,376; min_len=0; tmax=10.99609375; max_dur=538.8 [days]; dur(p50)=39.0 [days]; cadence(p50)=3.0 [days]\n",
      "(r) obs_samples=18,085; min_len=0; tmax=13.03515625; max_dur=538.7 [days]; dur(p50)=50.0 [days]; cadence(p50)=3.0 [days]\n",
      "   |        | SLSN - 18/1,185 (1.52%)\n",
      "   |█▍      | SNII* - 208/1,185 (17.55%)\n",
      "   |██████  | SNIa - 899/1,185 (75.86%)\n",
      "   |▍       | SNIbc - 60/1,185 (5.06%)\n",
      "────────────────────────────────────────────────────────────────────────────────────────────────────\n",
      "[3@val; samples 395]\n",
      "(.) obs_samples=11,003; min_len=6; max_dur=443.9[days]; dur(p50)=53.0[days]; cadence(p50)=1.1[days]\n",
      "(g) obs_samples=4,813; min_len=0; tmax=11.01953125; max_dur=443.9 [days]; dur(p50)=37.0 [days]; cadence(p50)=3.0 [days]\n",
      "(r) obs_samples=6,190; min_len=0; tmax=13.01953125; max_dur=443.9 [days]; dur(p50)=52.0 [days]; cadence(p50)=3.0 [days]\n",
      "   |        | SLSN - 6/395 (1.52%)\n",
      "   |█▍      | SNII* - 69/395 (17.47%)\n",
      "   |██████  | SNIa - 300/395 (75.95%)\n",
      "   |▍       | SNIbc - 20/395 (5.06%)\n",
      "────────────────────────────────────────────────────────────────────────────────────────────────────\n",
      "[3@test; samples 396]\n",
      "(.) obs_samples=10,682; min_len=6; max_dur=398.9[days]; dur(p50)=52.9[days]; cadence(p50)=1.0[days]\n",
      "(g) obs_samples=4,720; min_len=0; tmax=10.958984375; max_dur=396.9 [days]; dur(p50)=39.8 [days]; cadence(p50)=3.0 [days]\n",
      "(r) obs_samples=5,962; min_len=0; tmax=13.125; max_dur=398.9 [days]; dur(p50)=51.8 [days]; cadence(p50)=3.0 [days]\n",
      "   |        | SLSN - 6/396 (1.52%)\n",
      "   |█▍      | SNII* - 70/396 (17.68%)\n",
      "   |██████  | SNIa - 300/396 (75.76%)\n",
      "   |▍       | SNIbc - 20/396 (5.05%)\n",
      "────────────────────────────────────────────────────────────────────────────────────────────────────\n",
      "[3@train.spm-mcmc-estw; samples 37,920]\n",
      "(.) obs_samples=1,012,929; min_len=6; max_dur=538.3[days]; dur(p50)=47.7[days]; cadence(p50)=1.8[days]\n",
      "(g) obs_samples=447,337; min_len=0; tmax=9.898707389831543; max_dur=538.1 [days]; dur(p50)=32.3 [days]; cadence(p50)=2.2 [days]\n",
      "(r) obs_samples=565,592; min_len=0; tmax=11.774804592132568; max_dur=538.3 [days]; dur(p50)=44.2 [days]; cadence(p50)=2.2 [days]\n",
      "   |        | SLSN - 576/37,920 (1.52%)\n",
      "   |█▍      | SNII* - 6,656/37,920 (17.55%)\n",
      "   |██████  | SNIa - 28,768/37,920 (75.86%)\n",
      "   |▍       | SNIbc - 1,920/37,920 (5.06%)\n",
      "────────────────────────────────────────────────────────────────────────────────────────────────────\n",
      "\n"
     ]
    }
   ],
   "source": [
    "%load_ext autoreload\n",
    "%autoreload 2\n",
    "import numpy as np\n",
    "from fuzzytools.files import load_pickle, save_pickle\n",
    "from fuzzytools.files import get_dict_from_filedir\n",
    "\n",
    "method = 'spm-mcmc-estw'\n",
    "filedir = f'../../surveys-save/survey=alerceZTFv7.1~bands=gr~mode=onlySNe~method={method}.splcds'\n",
    "kf = '3'\n",
    "\n",
    "filedict = get_dict_from_filedir(filedir)\n",
    "root_folder = filedict['_rootdir']\n",
    "cfilename = filedict['_cfilename']\n",
    "survey = filedict['survey']\n",
    "lcdataset = load_pickle(filedir)\n",
    "lcdataset.only_keep_kf(kf) # saves ram\n",
    "print(lcdataset)"
   ]
  },
  {
   "cell_type": "code",
   "execution_count": 4,
   "metadata": {},
   "outputs": [
    {
     "name": "stdout",
     "output_type": "stream",
     "text": [
      "0.008175607 0.0950818657875061 4.7439365\n",
      "[4.7439365 4.728768  4.6024437 4.5164213 4.487468  4.1022983 4.0470786\n",
      " 3.769974  3.6512647 3.6495333 3.6165085 3.3707736 3.3525372 3.2578235\n",
      " 3.257067  3.1890793 3.1319213 3.1071947 3.0659616 3.065003  3.0458355\n",
      " 2.9732525 2.95734   2.9562514 2.9120116 2.8981762 2.8925304 2.8760905\n",
      " 2.8747578 2.8605256 2.8314006 2.8096883 2.7891712 2.7854521 2.7763386\n",
      " 2.7760704 2.7667835 2.742585  2.7388897 2.7351944 2.6897085 2.6475594\n",
      " 2.6399443 2.632687  2.6166713 2.5760531 2.5428755 2.5371962 2.510414\n",
      " 2.5090759 2.4998431 2.4929862 2.4685748 2.4585624 2.387114  2.386603\n",
      " 2.3837314 2.3812578 2.3770962 2.3756201 2.358135  2.3553631 2.339419\n",
      " 2.3246276 2.3090413 2.3074012 2.2865891 2.2806764 2.2761836 2.2743788\n",
      " 2.2704368 2.2700996 2.2457845 2.2425735 2.2410789 2.2372339 2.230249\n",
      " 2.2219906 2.221613  2.2149978 2.2099335 2.1769078 2.1455574 2.140894\n",
      " 2.134225  2.1149647 2.1110241 2.1055741 2.0834832 2.0693638 2.065581\n",
      " 2.0467865 2.0431678 2.039133  2.0324624 2.0302105 2.028339  2.0202343\n",
      " 1.9984412 1.9928104]\n"
     ]
    }
   ],
   "source": [
    "lcset = lcdataset[f'{kf}@train']\n",
    "values = lcset.get_all_values('obs')\n",
    "print(np.min(values), np.percentile(values, 50), np.max(values))\n",
    "print(np.sort(values)[::-1][:100])"
   ]
  },
  {
   "cell_type": "code",
   "execution_count": 5,
   "metadata": {},
   "outputs": [
    {
     "name": "stdout",
     "output_type": "stream",
     "text": [
      "0.008175607 0.0999055951833725 5.3186426\n",
      "[5.3186426 5.31499   5.3128767 5.3088145 5.2958484 5.2914796 5.2879496\n",
      " 5.279645  5.259554  5.2595024 5.2577667 5.256598  5.25193   5.2507725\n",
      " 5.2458935 5.2416883 5.241085  5.240665  5.239827  5.2387986 5.2381587\n",
      " 5.236587  5.2358522 5.2320266 5.2284856 5.224207  5.2234483 5.2224436\n",
      " 5.212849  5.2081075 5.207992  5.207511  5.2073374 5.2072067 5.207117\n",
      " 5.205889  5.205211  5.205022  5.2037244 5.2030544 5.202432  5.2018414\n",
      " 5.1985393 5.1960855 5.1931286 5.19279   5.191692  5.190909  5.1895723\n",
      " 5.189486  5.188065  5.1877046 5.1847925 5.184452  5.182047  5.1801596\n",
      " 5.178171  5.177001  5.1768975 5.176535  5.174741  5.174621  5.172786\n",
      " 5.171776  5.1699605 5.167176  5.1670346 5.163765  5.163728  5.1614914\n",
      " 5.1614695 5.160258  5.1600246 5.1598434 5.1589694 5.1562347 5.153978\n",
      " 5.152119  5.1512594 5.1486216 5.1483574 5.1469207 5.146613  5.1422496\n",
      " 5.1381025 5.1360183 5.1329246 5.132838  5.132612  5.132346  5.1323175\n",
      " 5.1319447 5.131526  5.1281443 5.127006  5.126961  5.126482  5.1254225\n",
      " 5.1245747 5.124551 ]\n"
     ]
    }
   ],
   "source": [
    "lcset = lcdataset[f'{kf}@train.{method}']\n",
    "values = lcset.get_all_values('obs')\n",
    "print(np.min(values), np.percentile(values, 50), np.max(values))\n",
    "print(np.sort(values)[::-1][:100])"
   ]
  },
  {
   "cell_type": "code",
   "execution_count": 6,
   "metadata": {
    "scrolled": true
   },
   "outputs": [
    {
     "name": "stdout",
     "output_type": "stream",
     "text": [
      "The autoreload extension is already loaded. To reload it, use:\n",
      "  %reload_ext autoreload\n"
     ]
    },
    {
     "ename": "KeyError",
     "evalue": "'0@train'",
     "output_type": "error",
     "traceback": [
      "\u001b[0;31m---------------------------------------------------------------------------\u001b[0m",
      "\u001b[0;31mKeyError\u001b[0m                                  Traceback (most recent call last)",
      "\u001b[0;32m<ipython-input-6-b3b8aad6bb33>\u001b[0m in \u001b[0;36m<module>\u001b[0;34m\u001b[0m\n\u001b[1;32m      6\u001b[0m \u001b[0mkf\u001b[0m \u001b[0;34m=\u001b[0m \u001b[0;36m0\u001b[0m\u001b[0;34m\u001b[0m\u001b[0;34m\u001b[0m\u001b[0m\n\u001b[1;32m      7\u001b[0m \u001b[0mset_name\u001b[0m \u001b[0;34m=\u001b[0m \u001b[0;34mf'{kf}@train'\u001b[0m\u001b[0;34m\u001b[0m\u001b[0;34m\u001b[0m\u001b[0m\n\u001b[0;32m----> 8\u001b[0;31m \u001b[0mlcdataset\u001b[0m\u001b[0;34m[\u001b[0m\u001b[0mset_name\u001b[0m\u001b[0;34m]\u001b[0m\u001b[0;34m.\u001b[0m\u001b[0mset_diff_parallel\u001b[0m\u001b[0;34m(\u001b[0m\u001b[0;34m'days'\u001b[0m\u001b[0;34m)\u001b[0m\u001b[0;34m\u001b[0m\u001b[0;34m\u001b[0m\u001b[0m\n\u001b[0m\u001b[1;32m      9\u001b[0m \u001b[0mplot_values_distribution\u001b[0m\u001b[0;34m(\u001b[0m\u001b[0mlcdataset\u001b[0m\u001b[0;34m,\u001b[0m \u001b[0mset_name\u001b[0m\u001b[0;34m,\u001b[0m \u001b[0;34m'd_days'\u001b[0m\u001b[0;34m)\u001b[0m\u001b[0;34m\u001b[0m\u001b[0;34m\u001b[0m\u001b[0m\n\u001b[1;32m     10\u001b[0m \u001b[0mplot_values_distribution\u001b[0m\u001b[0;34m(\u001b[0m\u001b[0mlcdataset\u001b[0m\u001b[0;34m,\u001b[0m \u001b[0mset_name\u001b[0m\u001b[0;34m,\u001b[0m \u001b[0;34m'obs'\u001b[0m\u001b[0;34m)\u001b[0m\u001b[0;34m\u001b[0m\u001b[0;34m\u001b[0m\u001b[0m\n",
      "\u001b[0;32m~/thesis/astro-lightcurves-handler/lchandler/dataset_classes.py\u001b[0m in \u001b[0;36m__getitem__\u001b[0;34m(self, lcset_name)\u001b[0m\n\u001b[1;32m     85\u001b[0m \u001b[0;34m\u001b[0m\u001b[0m\n\u001b[1;32m     86\u001b[0m         \u001b[0;32mdef\u001b[0m \u001b[0m__getitem__\u001b[0m\u001b[0;34m(\u001b[0m\u001b[0mself\u001b[0m\u001b[0;34m,\u001b[0m \u001b[0mlcset_name\u001b[0m\u001b[0;34m)\u001b[0m\u001b[0;34m:\u001b[0m\u001b[0;34m\u001b[0m\u001b[0;34m\u001b[0m\u001b[0m\n\u001b[0;32m---> 87\u001b[0;31m                 \u001b[0;32mreturn\u001b[0m \u001b[0mself\u001b[0m\u001b[0;34m.\u001b[0m\u001b[0mlcsets\u001b[0m\u001b[0;34m[\u001b[0m\u001b[0mlcset_name\u001b[0m\u001b[0;34m]\u001b[0m\u001b[0;34m\u001b[0m\u001b[0;34m\u001b[0m\u001b[0m\n\u001b[0m\u001b[1;32m     88\u001b[0m \u001b[0;34m\u001b[0m\u001b[0m\n\u001b[1;32m     89\u001b[0m         \u001b[0;32mdef\u001b[0m \u001b[0m__repr__\u001b[0m\u001b[0;34m(\u001b[0m\u001b[0mself\u001b[0m\u001b[0;34m)\u001b[0m\u001b[0;34m:\u001b[0m\u001b[0;34m\u001b[0m\u001b[0;34m\u001b[0m\u001b[0m\n",
      "\u001b[0;31mKeyError\u001b[0m: '0@train'"
     ]
    }
   ],
   "source": [
    "%load_ext autoreload\n",
    "%autoreload 2\n",
    "%matplotlib inline\n",
    "from lchandler.plots.distrs import plot_values_distribution\n",
    "\n",
    "kf = 0\n",
    "set_name = f'{kf}@train'\n",
    "lcdataset[set_name].set_diff_parallel('days')\n",
    "plot_values_distribution(lcdataset, set_name, 'd_days')\n",
    "plot_values_distribution(lcdataset, set_name, 'obs')\n",
    "plot_values_distribution(lcdataset, set_name, 'obse')"
   ]
  },
  {
   "cell_type": "code",
   "execution_count": 7,
   "metadata": {},
   "outputs": [
    {
     "name": "stdout",
     "output_type": "stream",
     "text": [
      "The autoreload extension is already loaded. To reload it, use:\n",
      "  %reload_ext autoreload\n"
     ]
    },
    {
     "ename": "ModuleNotFoundError",
     "evalue": "No module named 'torch'",
     "output_type": "error",
     "traceback": [
      "\u001b[0;31m---------------------------------------------------------------------------\u001b[0m",
      "\u001b[0;31mModuleNotFoundError\u001b[0m                       Traceback (most recent call last)",
      "\u001b[0;32m<ipython-input-7-567536302644>\u001b[0m in \u001b[0;36m<module>\u001b[0;34m\u001b[0m\n\u001b[1;32m      1\u001b[0m \u001b[0mget_ipython\u001b[0m\u001b[0;34m(\u001b[0m\u001b[0;34m)\u001b[0m\u001b[0;34m.\u001b[0m\u001b[0mrun_line_magic\u001b[0m\u001b[0;34m(\u001b[0m\u001b[0;34m'load_ext'\u001b[0m\u001b[0;34m,\u001b[0m \u001b[0;34m'autoreload'\u001b[0m\u001b[0;34m)\u001b[0m\u001b[0;34m\u001b[0m\u001b[0;34m\u001b[0m\u001b[0m\n\u001b[1;32m      2\u001b[0m \u001b[0mget_ipython\u001b[0m\u001b[0;34m(\u001b[0m\u001b[0;34m)\u001b[0m\u001b[0;34m.\u001b[0m\u001b[0mrun_line_magic\u001b[0m\u001b[0;34m(\u001b[0m\u001b[0;34m'autoreload'\u001b[0m\u001b[0;34m,\u001b[0m \u001b[0;34m'2'\u001b[0m\u001b[0;34m)\u001b[0m\u001b[0;34m\u001b[0m\u001b[0;34m\u001b[0m\u001b[0m\n\u001b[0;32m----> 3\u001b[0;31m \u001b[0;32mfrom\u001b[0m \u001b[0mlcclassifier\u001b[0m\u001b[0;34m.\u001b[0m\u001b[0mdatasets\u001b[0m \u001b[0;32mimport\u001b[0m \u001b[0mCustomDataset\u001b[0m\u001b[0;34m\u001b[0m\u001b[0;34m\u001b[0m\u001b[0m\n\u001b[0m\u001b[1;32m      4\u001b[0m \u001b[0;34m\u001b[0m\u001b[0m\n\u001b[1;32m      5\u001b[0m dataset_kwargs = {\n",
      "\u001b[0;32m~/thesis/astro-lightcurves-classifier/lcclassifier/datasets.py\u001b[0m in \u001b[0;36m<module>\u001b[0;34m\u001b[0m\n\u001b[1;32m      4\u001b[0m \u001b[0;34m\u001b[0m\u001b[0m\n\u001b[1;32m      5\u001b[0m \u001b[0;32mimport\u001b[0m \u001b[0mmath\u001b[0m\u001b[0;34m\u001b[0m\u001b[0;34m\u001b[0m\u001b[0m\n\u001b[0;32m----> 6\u001b[0;31m \u001b[0;32mimport\u001b[0m \u001b[0mtorch\u001b[0m\u001b[0;34m\u001b[0m\u001b[0;34m\u001b[0m\u001b[0m\n\u001b[0m\u001b[1;32m      7\u001b[0m \u001b[0;32mimport\u001b[0m \u001b[0mtorch\u001b[0m\u001b[0;34m.\u001b[0m\u001b[0mtensor\u001b[0m \u001b[0;32mas\u001b[0m \u001b[0mTensor\u001b[0m\u001b[0;34m\u001b[0m\u001b[0;34m\u001b[0m\u001b[0m\n\u001b[1;32m      8\u001b[0m \u001b[0;32mimport\u001b[0m \u001b[0mnumpy\u001b[0m \u001b[0;32mas\u001b[0m \u001b[0mnp\u001b[0m\u001b[0;34m\u001b[0m\u001b[0;34m\u001b[0m\u001b[0m\n",
      "\u001b[0;31mModuleNotFoundError\u001b[0m: No module named 'torch'"
     ]
    }
   ],
   "source": [
    "%load_ext autoreload\n",
    "%autoreload 2\n",
    "from lcclassifier.datasets import CustomDataset\n",
    "\n",
    "dataset_kwargs = {\n",
    "    'max_day':100.,\n",
    "    #attrs':['days','obs', 'obse']\n",
    "    'in_attrs':['obs', 'obse'],\n",
    "    #'attrs':['d_days','obs', 'obse']\n",
    "    'rec_attr':'obs',\n",
    "}\n",
    "repeats = 5\n",
    "device = 'cpu'\n",
    "#lcset_name = f'{kf}@train.{method}'\n",
    "lcset_name = f'{kf}@train'\n",
    "s_train_dataset_da = CustomDataset(lcset_name, copy(lcdataset[lcset_name]), device,\n",
    "    balanced_repeats=repeats,\n",
    "    precomputed_copies=2, # 1 8 16\n",
    "    uses_daugm=True,\n",
    "    uses_dynamic_balance=True,\n",
    "    ds_mode={'random':.75, 'left':.0, 'none':.25,},\n",
    "    **dataset_kwargs,\n",
    "    )"
   ]
  },
  {
   "cell_type": "code",
   "execution_count": null,
   "metadata": {},
   "outputs": [],
   "source": [
    "%load_ext autoreload\n",
    "%autoreload 2\n",
    "s_train_dataset_da.calcule_precomputed(verbose=1, n_jobs=1)"
   ]
  },
  {
   "cell_type": "code",
   "execution_count": null,
   "metadata": {},
   "outputs": [],
   "source": [
    "assert 0"
   ]
  },
  {
   "cell_type": "code",
   "execution_count": null,
   "metadata": {},
   "outputs": [],
   "source": [
    "assert 0"
   ]
  },
  {
   "cell_type": "code",
   "execution_count": null,
   "metadata": {
    "scrolled": false
   },
   "outputs": [],
   "source": [
    "%load_ext autoreload\n",
    "%autoreload 2\n",
    "from lcclassifier.datasets import CustomDataset\n",
    "\n",
    "\n",
    "lcset_name = f'{main_args.kf}@train.{main_args.method}'\n",
    "s_train_dataset_da = CustomDataset(lcset_name, copy(lcdataset[lcset_name]), device,\n",
    "    balanced_repeats=repeats,\n",
    "    precomputed_copies=8, # 1 8 16\n",
    "    uses_daugm=True,\n",
    "    uses_dynamic_balance=True,\n",
    "    ds_mode={'random':.75, 'left':.0, 'none':.25,},\n",
    "    **dataset_kwargs,\n",
    "    )\n",
    "\n",
    "device = 'cpu' # cpu\n",
    "train_dataset = CustomDataset(f'{kf}@train.{method}', copy(lcdataset[f'{kf}@train.{method}']), device, **dataset_kwargs)\n",
    "val_dataset = CustomDataset(f'{kf}@val', copy(lcdataset[f'{kf}@val']), device, **dataset_kwargs)\n",
    "train_dataset.transfer_scalers_to(val_dataset) # transfer metadata to val/test\n",
    "print('train_dataset:', train_dataset)\n",
    "print('val_dataset:', val_dataset)"
   ]
  },
  {
   "cell_type": "code",
   "execution_count": null,
   "metadata": {
    "scrolled": false
   },
   "outputs": [],
   "source": [
    "%load_ext autoreload\n",
    "%autoreload 2\n",
    "from fuzzytorch.utils import print_tdict\n",
    "import cProfile\n",
    "\n",
    "p = cProfile.Profile(); p.enable()\n",
    "tdict = train_dataset.get_item(train_dataset.get_lcobj_names()[0])\n",
    "print_tdict(tdict)\n",
    "p.disable(); p.dump_stats('prof.prof')\n",
    "print(tdict['target']['balanced_w'])\n",
    "pass"
   ]
  },
  {
   "cell_type": "code",
   "execution_count": null,
   "metadata": {
    "scrolled": false
   },
   "outputs": [],
   "source": [
    "%load_ext autoreload\n",
    "%autoreload 2\n",
    "import matplotlib.pyplot as plt\n",
    "from lchandler.plots.lc import plot_lightcurve\n",
    "from lchandler import C_ as C_\n",
    "%matplotlib inline\n",
    "\n",
    "dataset = train_dataset\n",
    "lcobj_name = dataset.get_random_stratified_lcobj_names()[0]\n",
    "\n",
    "\n",
    "tdict, lcobj = dataset.get_item(lcobj_name, uses_len_clip=False, uses_daugm=False, return_lcobjs=True)\n",
    "print(lcobj)\n",
    "\n",
    "\n",
    "minput = tdict['input']\n",
    "target = tdict['target']\n",
    "\n",
    "figsize = (10,13)\n",
    "fig, axs = plt.subplots(5+1, 1, figsize=figsize)\n",
    "\n",
    "ax = axs[0]\n",
    "for kb,b in enumerate(dataset.band_names):\n",
    "    plot_lightcurve(ax, lcobj, b, label=f'{b} obs', max_day=dataset.max_day)\n",
    "ax.set_ylabel('observation')\n",
    "\n",
    "b = 'r'\n",
    "len_lcobj = minput[f'onehot.{b}'].sum()\n",
    "ax = axs[1]\n",
    "time = minput[f'rtime.{b}'][...,0]\n",
    "for ka,in_attr in enumerate(dataset.in_attrs):\n",
    "    ax.plot(time[:len_lcobj], minput[f'x.{b}'][:len_lcobj,ka], '-o', label=f'{C_.SHORT_NAME_DICT[in_attr]} (norm)')\n",
    "ax.set_ylabel(f'x.{b}')\n",
    "\n",
    "ax = axs[2]\n",
    "ax.plot(time[:len_lcobj], minput[f'onehot.{b}'][:len_lcobj], 'o')\n",
    "ax.set_ylabel(f'onehot.{b}')\n",
    "\n",
    "ax = axs[3]\n",
    "ax.plot(time[:len_lcobj], minput[f'rtime.{b}'][:len_lcobj], '-o')\n",
    "ax.set_ylabel(f'time.{b}')\n",
    "\n",
    "ax = axs[4]\n",
    "ax.plot(time[:len_lcobj], minput[f'dtime.{b}'][:len_lcobj], '-o')\n",
    "ax.set_ylabel(f'dtime.{b}')\n",
    "\n",
    "ax = axs[5]\n",
    "ax.plot(time[:len_lcobj], target[f'rec_x.{b}'][:len_lcobj], '-o')\n",
    "ax.set_ylabel(f'rec_x.{b}')\n",
    "\n",
    "class_name = dataset.class_names[target['y']]\n",
    "title = ''\n",
    "title += f'training light curve sample & model inputs & onehot & temporal encoding \\n'\n",
    "title += f'survey: {dataset.lcset.survey} - set: {dataset.lcset_name}'\n",
    "title += f' - class: {class_name} - max_day: {dataset.max_day:.2f} - max_len: {dataset.max_len}'\n",
    "#title += f' - training: {dataset.training}'\n",
    "for ax in axs:\n",
    "    #ax.legend(prop={'size':14})\n",
    "    ax.legend(loc='upper right')\n",
    "    ax.grid(alpha=0.5)\n",
    "axs[0].set_title(title)\n",
    "axs[-1].set_xlabel('days')\n",
    "plt.show()"
   ]
  },
  {
   "cell_type": "code",
   "execution_count": null,
   "metadata": {},
   "outputs": [],
   "source": [
    "%load_ext autoreload\n",
    "%autoreload 2\n",
    "from lcclassifier.dataloaders import CustomDataLoader\n",
    "from fuzzytorch.utils import print_tdict\n",
    "\n",
    "loader_kwargs = {\n",
    "    'batch_size':2,\n",
    "}\n",
    "random_subcrops = 3\n",
    "s_train_loader = CustomDataLoader(train_dataset, shuffle=False, **loader_kwargs)\n",
    "s_train_loader.eval()\n",
    "dataset.set_max_day(40)\n",
    "\n",
    "for k,tdict in enumerate(s_train_loader):\n",
    "    target = tdict['target']\n",
    "    print_tdict(tdict)\n",
    "    print(tdict['input']['rtime.*'][0,:,0])\n",
    "    break"
   ]
  },
  {
   "cell_type": "code",
   "execution_count": null,
   "metadata": {
    "scrolled": false
   },
   "outputs": [],
   "source": [
    "%load_ext autoreload\n",
    "%autoreload 2\n",
    "from lcclassifier.dataloaders import CustomDataLoader\n",
    "from fuzzytorch.utils import print_tdict\n",
    "\n",
    "loader_kwargs = {\n",
    "    'batch_size':1,\n",
    "    #'num_workers':1, # bug?\n",
    "}\n",
    "random_subcrops = 3\n",
    "s_train_loader = CustomDataLoader(train_dataset, shuffle=True, random_subcrops=random_subcrops, **loader_kwargs)\n",
    "s_train_loader.train()\n",
    "\n",
    "for k,tdict in enumerate(s_train_loader):\n",
    "    model_input = tdict['input']\n",
    "    target = tdict['target']\n",
    "    print_tdict(tdict)\n",
    "    for idx in range(len(model_input['x'])):\n",
    "        print(model_input['x'][idx,:,0])\n",
    "        print(model_input['onehot'][idx].sum(-1))\n",
    "    assert 0"
   ]
  }
 ],
 "metadata": {
  "kernelspec": {
   "display_name": "Python 3",
   "language": "python",
   "name": "python3"
  },
  "language_info": {
   "codemirror_mode": {
    "name": "ipython",
    "version": 3
   },
   "file_extension": ".py",
   "mimetype": "text/x-python",
   "name": "python",
   "nbconvert_exporter": "python",
   "pygments_lexer": "ipython3",
   "version": "3.7.10"
  }
 },
 "nbformat": 4,
 "nbformat_minor": 2
}
