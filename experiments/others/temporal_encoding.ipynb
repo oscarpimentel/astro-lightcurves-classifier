{
 "cells": [
  {
   "cell_type": "code",
   "execution_count": null,
   "metadata": {},
   "outputs": [],
   "source": [
    "import numpy as np\n",
    "import matplotlib.pyplot as plt\n",
    "\n",
    "frequencies = 2\n",
    "max_time = 100\n",
    "min_time = -90\n",
    "max_period = max_time - min_time\n",
    "min_period = max_period/2**3\n",
    "periods = np.linspace(max_period, min_period, frequencies)\n",
    "\n",
    "periods = np.array([max_period]*frequencies)/np.power(2, np.arange(0, frequencies))\n",
    "print(periods)\n",
    "\n",
    "fig, ax = plt.subplots(1,1, figsize=(12,6))\n",
    "N = 1000\n",
    "time = np.linspace(-95, 110, N)-min_time\n",
    "sampled_time = np.random.permutation(time)[:10]\n",
    "\n",
    "for tk,t in enumerate(sampled_time):\n",
    "    ax.axvline(t, color='k', label='sampled times' if tk==0 else None, alpha=1, lw=1)\n",
    "    \n",
    "for p in periods:\n",
    "    ax_p = ax.plot(time, np.sin(2*np.pi*time/p), '-')\n",
    "    c = ax_p[0].get_color()\n",
    "    ax.plot(time, np.cos(2*np.pi*time/p), '--', c=c)\n",
    "    p_text = f'{p:.1f}'\n",
    "    label = '$f_{TE}(t)|_{sin}^{'+p_text+'d}$'\n",
    "    ax.plot(sampled_time, np.sin(2*np.pi*sampled_time/p), 'o', c=c, label=label)\n",
    "    label = '$f_{TE}(t)|_{cos}^{'+p_text+'d}$'\n",
    "    ax.plot(sampled_time, np.cos(2*np.pi*sampled_time/p), 'v', markersize=8, c=c, label=label)\n",
    "    \n",
    "ax.legend()\n",
    "ax.set_ylabel('encoding')\n",
    "ax.set_xlabel('time')\n",
    "ax.grid(alpha=0.5)\n",
    "ax.set_title(f'Temporal Encoding example using {len(periods)} periods ({len(periods)*2} code features)')\n",
    "ax.legend(prop={'size':12})\n",
    "plt.show"
   ]
  }
 ],
 "metadata": {
  "kernelspec": {
   "display_name": "Python 3",
   "language": "python",
   "name": "python3"
  },
  "language_info": {
   "codemirror_mode": {
    "name": "ipython",
    "version": 3
   },
   "file_extension": ".py",
   "mimetype": "text/x-python",
   "name": "python",
   "nbconvert_exporter": "python",
   "pygments_lexer": "ipython3",
   "version": "3.7.9"
  }
 },
 "nbformat": 4,
 "nbformat_minor": 2
}
