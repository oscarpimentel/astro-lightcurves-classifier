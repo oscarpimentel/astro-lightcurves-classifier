{
 "cells": [
  {
   "cell_type": "code",
   "execution_count": 7,
   "id": "70ae0d6b",
   "metadata": {},
   "outputs": [],
   "source": [
    "import sys\n",
    "sys.path.append('../') # or just install the module\n",
    "sys.path.append('../../fuzzy-torch') # or just install the module\n",
    "sys.path.append('../../fuzzy-tools') # or just install the module\n",
    "sys.path.append('../../astro-lightcurves-handler') # or just install the module"
   ]
  },
  {
   "cell_type": "code",
   "execution_count": 8,
   "id": "894145c6",
   "metadata": {},
   "outputs": [
    {
     "name": "stdout",
     "output_type": "stream",
     "text": [
      "The autoreload extension is already loaded. To reload it, use:\n",
      "  %reload_ext autoreload\n"
     ]
    },
    {
     "data": {
      "text/plain": [
       "['mdl=ParallelRNN~input_dims=1~dummy_seft=1~enc_emb=g64-g64-g64.r64-r64-r64~dec_emb=g1-g128.r1-r128~cell=LSTM~b=202~pb=.~hr=0~bypass_synth=0~bypass_prob=0.0~ds_prob=0.1',\n",
       " 'mdl=SerialRNN~input_dims=1~dummy_seft=1~enc_emb=128-128-128~dec_emb=g1-g128.r1-r128~cell=LSTM~b=202~pb=.~hr=0~bypass_synth=0~bypass_prob=0.0~ds_prob=0.1',\n",
       " 'mdl=ParallelRNN~input_dims=1~dummy_seft=1~enc_emb=g64-g64-g64.r64-r64-r64~dec_emb=g1-g128.r1-r128~cell=GRU~b=202~pb=.~hr=0~bypass_synth=0~bypass_prob=0.0~ds_prob=0.1',\n",
       " 'mdl=SerialTimeModAttn~input_dims=1~dummy_seft=1~m=24~kernel_size=1~heads=8~time_noise_window=6*24**-1~enc_emb=128-128-128~dec_emb=g1-g128.r1-r128~b=202~pb=.~hr=0~bypass_synth=0~bypass_prob=0.0~ds_prob=0.1',\n",
       " 'mdl=SerialRNN~input_dims=1~dummy_seft=1~enc_emb=128-128-128~dec_emb=g1-g128.r1-r128~cell=GRU~b=202~pb=.~hr=0~bypass_synth=0~bypass_prob=0.0~ds_prob=0.1',\n",
       " 'mdl=ParallelTimeModAttn~input_dims=1~dummy_seft=1~m=24~kernel_size=1~heads=4~time_noise_window=6*24**-1~enc_emb=g64-g64-g64.r64-r64-r64~dec_emb=g1-g128.r1-r128~b=202~pb=.~hr=0~bypass_synth=0~bypass_prob=0.0~ds_prob=0.1']"
      ]
     },
     "execution_count": 8,
     "metadata": {},
     "output_type": "execute_result"
    }
   ],
   "source": [
    "%load_ext autoreload\n",
    "%autoreload 2\n",
    "from lcclassifier.results.utils import get_model_names\n",
    "\n",
    "rootdir = '../save/paper_v8/nl=2'\n",
    "lcset_name = 'test'\n",
    "method = 'spm-mcmc-estw'\n",
    "cfilename = f'survey=alerceZTFv7.1~bands=gr~mode=onlySNe~method={method}'\n",
    "kf = '.'\n",
    "\n",
    "model_names = get_model_names(rootdir, cfilename, kf, lcset_name)\n",
    "model_names"
   ]
  },
  {
   "cell_type": "code",
   "execution_count": null,
   "id": "22b6604b",
   "metadata": {
    "scrolled": false
   },
   "outputs": [
    {
     "name": "stdout",
     "output_type": "stream",
     "text": [
      "The autoreload extension is already loaded. To reload it, use:\n",
      "  %reload_ext autoreload\n",
      "mdl=SerialTimeModAttn~input_dims=1~dummy_seft=1~m=24~kernel_size=1~heads=8~time_noise_window=6*24**-1~enc_emb=128-128-128~dec_emb=g1-g128.r1-r128~b=202~pb=.~hr=0~bypass_synth=0~bypass_prob=0.0~ds_prob=0.1 ['0@id=1000', '0@id=1001', '0@id=1002', '0@id=1003', '0@id=1004', '0@id=1005', '1@id=1000', '1@id=1001', '1@id=1002', '1@id=1003', '1@id=1004', '1@id=1005', '2@id=1000', '2@id=1001', '2@id=1002', '2@id=1003', '2@id=1004', '2@id=1005', '3@id=1000', '3@id=1001', '3@id=1002', '3@id=1003', '3@id=1004', '3@id=1005', '4@id=1000', '4@id=1001', '4@id=1002', '4@id=1003', '4@id=1004', '4@id=1005'](30#)\n",
      "mdl=ParallelTimeModAttn~input_dims=1~dummy_seft=1~m=24~kernel_size=1~heads=4~time_noise_window=6*24**-1~enc_emb=g64-g64-g64.r64-r64-r64~dec_emb=g1-g128.r1-r128~b=202~pb=.~hr=0~bypass_synth=0~bypass_prob=0.0~ds_prob=0.1 ['0@id=1000', '0@id=1001', '0@id=1002', '0@id=1003', '0@id=1004', '0@id=1005', '1@id=1000', '1@id=1001', '1@id=1002', '1@id=1003', '1@id=1004', '1@id=1005', '2@id=1000', '2@id=1001', '2@id=1002', '2@id=1003', '2@id=1004', '2@id=1005', '3@id=1000', '3@id=1001', '3@id=1002', '3@id=1003', '3@id=1004', '3@id=1005', '4@id=1000', '4@id=1001', '4@id=1002', '4@id=1003', '4@id=1004', '4@id=1005'](30#)\n"
     ]
    }
   ],
   "source": [
    "%load_ext autoreload\n",
    "%autoreload 2\n",
    "from lcclassifier.results.temporal_modulation import plot_temporal_modulation\n",
    "\n",
    "lcset_name = f'test'\n",
    "new_model_names = []\n",
    "for model_name in model_names:\n",
    "    new_model_names += [model_name]\n",
    "plot_temporal_modulation(rootdir, cfilename, kf, lcset_name, new_model_names)"
   ]
  }
 ],
 "metadata": {
  "kernelspec": {
   "display_name": "Python 3",
   "language": "python",
   "name": "python3"
  },
  "language_info": {
   "codemirror_mode": {
    "name": "ipython",
    "version": 3
   },
   "file_extension": ".py",
   "mimetype": "text/x-python",
   "name": "python",
   "nbconvert_exporter": "python",
   "pygments_lexer": "ipython3",
   "version": "3.7.10"
  }
 },
 "nbformat": 4,
 "nbformat_minor": 5
}
