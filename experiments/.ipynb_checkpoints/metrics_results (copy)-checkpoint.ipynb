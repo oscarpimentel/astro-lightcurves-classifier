{
 "cells": [
  {
   "cell_type": "code",
   "execution_count": null,
   "metadata": {},
   "outputs": [],
   "source": [
    "import sys\n",
    "sys.path.append('../') # or just install the module\n",
    "sys.path.append('../../fuzzy-torch') # or just install the module\n",
    "sys.path.append('../../fuzzy-tools') # or just install the module\n",
    "sys.path.append('../../astro-lightcurves-handler') # or just install the module"
   ]
  },
  {
   "cell_type": "code",
   "execution_count": 10,
   "metadata": {},
   "outputs": [
    {
     "name": "stdout",
     "output_type": "stream",
     "text": [
      "The autoreload extension is already loaded. To reload it, use:\n",
      "  %reload_ext autoreload\n"
     ]
    }
   ],
   "source": [
    "%load_ext autoreload\n",
    "%autoreload 2\n",
    "from lcclassifier.results.utils import filter_models\n",
    "\n",
    "condition_dict = {\n",
    "    #'cell':['GRU', 'LSTM'],\n",
    "    'aggr':['max', 'avg'],\n",
    "    #'mdl':['ParallelTimeSelfAttn', 'SerialTimeSelfAttn'],\n",
    "    #'mdl':['ParallelTimeSelfAttn', 'SerialTimeSelfAttn'],\n",
    "    #'mdl':['ParallelTimeSelfAttn', 'SerialTimeSelfAttn', 'ParallelTimeErrorSelfAttn', 'SerialTimeErrorSelfAttn'],\n",
    "    'rsc':['0'],\n",
    "}\n",
    "new_model_names = [\n",
    "    'mdl=ParallelRNN~in-dims=3~te-dims=0~enc-emb=g32-g32-g32.r32-r32-r32~dec-emb=g32-g32.r32-r32~cell=GRU~rsc=0',\n",
    "    'mdl=SerialRNN~in-dims=3~te-dims=0~enc-emb=32-32-32~dec-emb=g32-g32.r32-r32~cell=GRU~rsc=0',\n",
    "   \n",
    "    'mdl=ParallelTCNN~in-dims=3~te-dims=0~enc-emb=g32-g32-g32.r32-r32-r32~dec-emb=g32-g32.r32-r32~aggr=avg~rsc=0',\n",
    "    'mdl=SerialTCNN~in-dims=3~te-dims=0~enc-emb=32-32-32~dec-emb=g32-g32.r32-r32~aggr=avg~rsc=0',\n",
    "\n",
    "    'mdl=ParallelTimeSelfAttn~in-dims=2~te-dims=4~enc-emb=g32-g32-g32.r32-r32-r32~dec-emb=g32-g32.r32-r32~rsc=0',\n",
    "    'mdl=SerialTimeSelfAttn~in-dims=2~te-dims=4~enc-emb=32-32-32~dec-emb=g32-g32.r32-r32~rsc=0',\n",
    "    \n",
    "    'mdl=ParallelTimeSelfAttn~in-dims=2~te-dims=4~enc-emb=g32-g32-g32.r32-r32-r32~dec-emb=g32-g32.r32-r32~rsc=1',\n",
    "    'mdl=SerialTimeSelfAttn~in-dims=2~te-dims=4~enc-emb=32-32-32~dec-emb=g32-g32.r32-r32~rsc=1',\n",
    "]\n",
    "new_model_names = model_names\n",
    "#new_model_names = filter_models(model_names, condition_dict)\n",
    "for kmn,model_name in enumerate(new_model_names):\n",
    "    print(f'[{kmn}] {model_name}')"
   ]
  },
  {
   "cell_type": "code",
   "execution_count": 7,
   "metadata": {},
   "outputs": [
    {
     "name": "stdout",
     "output_type": "stream",
     "text": [
      "The autoreload extension is already loaded. To reload it, use:\n",
      "  %reload_ext autoreload\n"
     ]
    }
   ],
   "source": [
    "%load_ext autoreload\n",
    "%autoreload 2\n",
    "from lcclassifier.results.utils import get_models_from_rootdir\n",
    "\n",
    "method = 'spm-mcmc-estw'\n",
    "cfilename = f'survey=alerceZTFv7.1~bands=gr~mode=onlySNe~method={method}'\n",
    "rootdir = f''\n",
    "    \n",
    "\n",
    "\n",
    "survey_name = 'alerceZTFv7.1'\n",
    "\n",
    "\n",
    "set_name = f'{kf}@r_test' # s_train r_train s_val r_val r_test\n",
    "rootdir = f'../save/experiments/{set_name}'\n",
    "cset_name = set_name.split('@')[-1]\n",
    "model_names = get_models_from_rootdir(f'{rootdir}/{mode}')\n",
    "for kmn,model_name in enumerate(model_names):\n",
    "    print(f'[{kmn}] {model_name}')"
   ]
  },
  {
   "cell_type": "markdown",
   "metadata": {},
   "source": [
    "# metrics v/s days"
   ]
  },
  {
   "cell_type": "code",
   "execution_count": 8,
   "metadata": {},
   "outputs": [],
   "source": [
    "baselines_dict = {\n",
    "    'r_val':{\n",
    "        'b-accuracy':65.86,\n",
    "        'b-f1score':.43,\n",
    "    },\n",
    "    'r_test':{\n",
    "        'b-accuracy':60.38,\n",
    "        'b-f1score':.45,\n",
    "    },\n",
    "}"
   ]
  },
  {
   "cell_type": "code",
   "execution_count": 9,
   "metadata": {
    "scrolled": false
   },
   "outputs": [
    {
     "name": "stdout",
     "output_type": "stream",
     "text": [
      "The autoreload extension is already loaded. To reload it, use:\n",
      "  %reload_ext autoreload\n"
     ]
    },
    {
     "ename": "TypeError",
     "evalue": "plot_metric() got an unexpected keyword argument 'set_name'",
     "output_type": "error",
     "traceback": [
      "\u001b[0;31m---------------------------------------------------------------------------\u001b[0m",
      "\u001b[0;31mTypeError\u001b[0m                                 Traceback (most recent call last)",
      "\u001b[0;32m<ipython-input-9-5ecd398e97c1>\u001b[0m in \u001b[0;36m<module>\u001b[0;34m\u001b[0m\n\u001b[1;32m      9\u001b[0m }\n\u001b[1;32m     10\u001b[0m \u001b[0mmetric_name\u001b[0m \u001b[0;34m=\u001b[0m \u001b[0;34m'b-accuracy'\u001b[0m \u001b[0;31m# b-accuracy b-f1score\u001b[0m\u001b[0;34m\u001b[0m\u001b[0;34m\u001b[0m\u001b[0m\n\u001b[0;32m---> 11\u001b[0;31m \u001b[0mplot_metric\u001b[0m\u001b[0;34m(\u001b[0m\u001b[0mrootdir\u001b[0m\u001b[0;34m,\u001b[0m \u001b[0mmetric_name\u001b[0m\u001b[0;34m,\u001b[0m \u001b[0mnew_model_names\u001b[0m\u001b[0;34m,\u001b[0m \u001b[0mbaselines_dict\u001b[0m\u001b[0;34m.\u001b[0m\u001b[0mget\u001b[0m\u001b[0;34m(\u001b[0m\u001b[0mcset_name\u001b[0m\u001b[0;34m,\u001b[0m \u001b[0;32mNone\u001b[0m\u001b[0;34m)\u001b[0m\u001b[0;34m,\u001b[0m \u001b[0;34m**\u001b[0m\u001b[0mkwargs\u001b[0m\u001b[0;34m)\u001b[0m\u001b[0;34m\u001b[0m\u001b[0;34m\u001b[0m\u001b[0m\n\u001b[0m",
      "\u001b[0;31mTypeError\u001b[0m: plot_metric() got an unexpected keyword argument 'set_name'"
     ]
    }
   ],
   "source": [
    "%load_ext autoreload\n",
    "%autoreload 2\n",
    "from lcclassifier.results.plots import plot_metric\n",
    "\n",
    "\n",
    "kwargs = {\n",
    "    'label_keys':label_keys,\n",
    "    'set_name':set_name,\n",
    "}\n",
    "metric_name = 'b-accuracy' # b-accuracy b-f1score\n",
    "plot_metric(rootdir, metric_name, new_model_names, baselines_dict.get(cset_name, None), **kwargs)"
   ]
  },
  {
   "cell_type": "code",
   "execution_count": null,
   "metadata": {
    "scrolled": false
   },
   "outputs": [],
   "source": [
    "%load_ext autoreload\n",
    "%autoreload 2\n",
    "from lcclassifier.results.tables import get_query_df_table\n",
    "from fuzzytools.latex.latex_tables import LatexTable\n",
    "\n",
    "kwargs = {\n",
    "    'arch_modes':['Parallel', 'Serial'],\n",
    "    #'arch_modes':['Serial'],\n",
    "}\n",
    "metric_names = ['b-accuracy', 'b-f1score', 'b-gmean', 'b-xentropy']\n",
    "day_to_metric = 150\n",
    "#query_key = 'cell'; query_values = ['GRU', 'LSTM']\n",
    "query_key = 'aggr'; query_values = ['avg', 'max']\n",
    "#query_key = 'te-dims'; query_values = [str(i) for i in [4, 8, 16]]\n",
    "\n",
    "info_df = get_query_df_table(rootdir, metric_names, new_model_names, day_to_metric, query_key, query_values, **kwargs)\n",
    "\n",
    "latex_kwargs = {\n",
    "    'caption':f'{query_key} {day_to_metric} {set_name}'.replace('_', '\\\\_'),\n",
    "    'label':'?',\n",
    "    #'bold_criteriums':'max',\n",
    "    #'custom_tabular_align':'l|'+'c'*sum([m.split('-')[-1]=='fstw' for m in methods])+'|'+'c'*sum([m.split('-')[-1]=='estw' for m in methods]),\n",
    "    #'custom_tabular_align':'l|cc|cc|cc',\n",
    "    'hline_k':2,\n",
    "}\n",
    "latex_table = LatexTable(info_df, **latex_kwargs)\n",
    "print(latex_table)\n",
    "info_df"
   ]
  },
  {
   "cell_type": "code",
   "execution_count": null,
   "metadata": {
    "scrolled": false
   },
   "outputs": [],
   "source": [
    "%load_ext autoreload\n",
    "%autoreload 2\n",
    "from lcclassifier.results.tables import get_df_table\n",
    "from fuzzytools.latex.latex_tables import LatexTable\n",
    "import fuzzytools.strings as strings\n",
    "\n",
    "def format_f(model_name):\n",
    "    model_name = model_name.replace('Parallel', '')\n",
    "    model_name = model_name.replace('Serial', '')\n",
    "    mn_dict = strings.get_dict_from_string(model_name)\n",
    "    return mn_dict['mdl']\n",
    "\n",
    "kwargs = {\n",
    "    'arch_modes':['Parallel', 'Serial'],\n",
    "    #'arch_modes':['Serial'],\n",
    "}\n",
    "metric_names = ['b-accuracy', 'b-f1score', 'b-gmean', 'b-xentropy']\n",
    "day_to_metric = 150\n",
    "info_df = get_df_table(rootdir, metric_names, new_model_names, day_to_metric, format_f, **kwargs)\n",
    "\n",
    "latex_kwargs = {\n",
    "    'caption':f'max day={day_to_metric} - eval={set_name}'.replace('_', '\\\\_'),\n",
    "    'label':'?',\n",
    "    #'bold_criteriums':'max',\n",
    "    #'custom_tabular_align':'l|'+'c'*sum([m.split('-')[-1]=='fstw' for m in methods])+'|'+'c'*sum([m.split('-')[-1]=='estw' for m in methods]),\n",
    "    #'custom_tabular_align':'l|cc|cc|cc',\n",
    "    'hline_k':2,\n",
    "}\n",
    "latex_table = LatexTable(info_df, **latex_kwargs)\n",
    "print(latex_table)\n",
    "info_df"
   ]
  },
  {
   "cell_type": "code",
   "execution_count": null,
   "metadata": {
    "scrolled": false
   },
   "outputs": [],
   "source": [
    "%load_ext autoreload\n",
    "%autoreload 2\n",
    "from lcclassifier.results.plots import plot_cm\n",
    "\n",
    "kwargs = {\n",
    "    'lcset_name':set_name,\n",
    "    'export_animation':True,\n",
    "}\n",
    "day_to_metric = 150 # 150\n",
    "plot_cm(rootdir, new_model_names, day_to_metric, **kwargs)"
   ]
  },
  {
   "cell_type": "markdown",
   "metadata": {},
   "source": [
    "# mse v/s days"
   ]
  },
  {
   "cell_type": "code",
   "execution_count": null,
   "metadata": {},
   "outputs": [],
   "source": [
    "%load_ext autoreload\n",
    "%autoreload 2\n",
    "from lcclassifier.results.plots import plot_mse\n",
    "\n",
    "plot_mse(rootdir, new_model_names)"
   ]
  },
  {
   "cell_type": "markdown",
   "metadata": {},
   "source": [
    "# f1score vs mse"
   ]
  },
  {
   "cell_type": "code",
   "execution_count": null,
   "metadata": {
    "scrolled": false
   },
   "outputs": [],
   "source": [
    "%load_ext autoreload\n",
    "%autoreload 2\n",
    "from lcclassifier.results.plots import plot_f1score_mse\n",
    "\n",
    "plot_f1score_mse(root_folder)"
   ]
  },
  {
   "cell_type": "markdown",
   "metadata": {},
   "source": [
    "# Temporal encoding"
   ]
  },
  {
   "cell_type": "code",
   "execution_count": null,
   "metadata": {},
   "outputs": [],
   "source": [
    "%load_ext autoreload\n",
    "%autoreload 2\n",
    "from lcclassifier.results.plots import plot_te_scores\n",
    "\n",
    "plot_te_scores(root_folder, error_scale=1.5)"
   ]
  },
  {
   "cell_type": "markdown",
   "metadata": {},
   "source": [
    "# Precision & recall"
   ]
  },
  {
   "cell_type": "code",
   "execution_count": null,
   "metadata": {},
   "outputs": [],
   "source": [
    "%matplotlib inline\n",
    "%load_ext autoreload\n",
    "%autoreload 2\n",
    "from ipywidgets import interact, fixed\n",
    "from fuzzytools.myUtils.files import search_for_filedirs\n",
    "from src.results.plots import plot_precision_recall_classes\n",
    "\n",
    "def interact_f(model_name):\n",
    "    return plot_precision_recall_classes(root_folder, model_name)\n",
    "\n",
    "filedirs = search_for_filedirs(root_folder, fext='expmet', verbose=0)\n",
    "model_names = list(set([fd.split('/')[-2] for fd in filedirs]))\n",
    "interact(interact_f, model_name=model_names)"
   ]
  },
  {
   "cell_type": "code",
   "execution_count": null,
   "metadata": {
    "scrolled": false
   },
   "outputs": [],
   "source": [
    "%load_ext autoreload\n",
    "%autoreload 2\n",
    "from src.results.plots import plot_training_losses\n",
    "\n",
    "plot_training_losses(root_folder)"
   ]
  },
  {
   "cell_type": "markdown",
   "metadata": {},
   "source": [
    "# metrics & training times table"
   ]
  },
  {
   "cell_type": "code",
   "execution_count": null,
   "metadata": {
    "scrolled": false
   },
   "outputs": [],
   "source": [
    "%load_ext autoreload\n",
    "%autoreload 2\n",
    "from src.results.latex_tables import latex_table_metrics_days\n",
    "\n",
    "target_days = [15, 30, 60]\n",
    "latex_table_metrics_days(root_folder, target_days)"
   ]
  },
  {
   "cell_type": "code",
   "execution_count": null,
   "metadata": {},
   "outputs": [],
   "source": [
    "%load_ext autoreload\n",
    "%autoreload 2\n",
    "from src.results.latex_tables import latex_table_metrics_mean\n",
    "\n",
    "latex_table_metrics_mean(root_folder)"
   ]
  },
  {
   "cell_type": "code",
   "execution_count": null,
   "metadata": {
    "scrolled": false
   },
   "outputs": [],
   "source": [
    "%load_ext autoreload\n",
    "%autoreload 2\n",
    "from src.results.latex_tables import latex_table_parameters\n",
    "\n",
    "latex_table_parameters(root_folder)"
   ]
  },
  {
   "cell_type": "markdown",
   "metadata": {},
   "source": [
    "# confusion matrix plot"
   ]
  },
  {
   "cell_type": "code",
   "execution_count": null,
   "metadata": {
    "scrolled": false
   },
   "outputs": [],
   "source": [
    "%matplotlib inline\n",
    "%load_ext autoreload\n",
    "%autoreload 2\n",
    "from ipywidgets import interact, fixed\n",
    "from fuzzytools.myUtils.files import search_for_filedirs, load_pickle\n",
    "from src.results.plots import plot_cm\n",
    "\n",
    "def interact_f(model_name, target_day):\n",
    "    return plot_cm(root_folder, model_name, target_day)\n",
    "\n",
    "filedirs = search_for_filedirs(root_folder, fext='expmet', verbose=0)\n",
    "model_names = list(set([fd.split('/')[-2] for fd in filedirs]))\n",
    "target_days = load_pickle(filedirs[0])['days'][::-1]\n",
    "interact(interact_f, model_name=model_names, target_day=target_days)"
   ]
  },
  {
   "cell_type": "code",
   "execution_count": null,
   "metadata": {},
   "outputs": [],
   "source": [
    "%load_ext autoreload\n",
    "%autoreload 2\n",
    "from ipywidgets import interact, fixed\n",
    "from fuzzytools.myUtils.files import search_for_filedirs, load_pickle\n",
    "from src.results.plots import animation_cm\n",
    "\n",
    "filedirs = search_for_filedirs(root_folder, fext='expmet', verbose=0)\n",
    "model_names = list(set([fd.split('/')[-2] for fd in filedirs]))\n",
    "target_days = load_pickle(filedirs[0])['days']\n",
    "animation_cm(root_folder, model_names[0], target_days)"
   ]
  }
 ],
 "metadata": {
  "kernelspec": {
   "display_name": "Python 3",
   "language": "python",
   "name": "python3"
  },
  "language_info": {
   "codemirror_mode": {
    "name": "ipython",
    "version": 3
   },
   "file_extension": ".py",
   "mimetype": "text/x-python",
   "name": "python",
   "nbconvert_exporter": "python",
   "pygments_lexer": "ipython3",
   "version": "3.7.9"
  }
 },
 "nbformat": 4,
 "nbformat_minor": 2
}
