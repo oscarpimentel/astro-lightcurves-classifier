{
 "cells": [
  {
   "cell_type": "code",
   "execution_count": 3,
   "metadata": {},
   "outputs": [],
   "source": [
    "import sys\n",
    "sys.path.append('../') # or just install the module\n",
    "sys.path.append('../../fuzzy-torch') # or just install the module\n",
    "sys.path.append('../../fuzzy-tools') # or just install the module\n",
    "sys.path.append('../../astro-lightcurves-handler') # or just install the module"
   ]
  },
  {
   "cell_type": "code",
   "execution_count": 4,
   "metadata": {},
   "outputs": [
    {
     "name": "stdout",
     "output_type": "stream",
     "text": [
      "▀▀▀▀▀▀▀▀▀▀▀▀▀▀▀▀▀▀▀▀▀▀▀▀▀▀▀▀▀▀▀▀▀▀▀▀▀▀▀▀▀▀▀▀▀▀▀▀▀▀▀▀▀▀▀▀▀▀▀▀▀▀▀▀▀▀▀▀▀▀▀▀▀▀▀▀▀▀▀▀▀▀▀▀▀▀▀▀▀▀▀▀▀▀▀▀▀▀▀▀\n"
     ]
    }
   ],
   "source": [
    "import argparse\n",
    "from fuzzytools.prints import print_big_bar\n",
    "\n",
    "parser = argparse.ArgumentParser('usage description')\n",
    "parser.add_argument('-method',  type=str, default='spm-mcmc-estw', help='method')\n",
    "parser.add_argument('-gpu',  type=int, default=-1, help='gpu')\n",
    "parser.add_argument('-mc',  type=str, default='parallel_rnn_models', help='model_collections method')\n",
    "parser.add_argument('-batch_size',  type=int, default=512, help='batch_size')\n",
    "parser.add_argument('-load_model',  type=bool, default=False, help='load_model')\n",
    "parser.add_argument('-epochs_max',  type=int, default=1e4, help='epochs_max')\n",
    "parser.add_argument('-save_rootdir',  type=str, default='../save', help='save_rootdir')\n",
    "parser.add_argument('-iid',  type=int, default=0, help='initial id')\n",
    "parser.add_argument('-fid',  type=int, default=5, help='final id')\n",
    "parser.add_argument('-kf',  type=str, default='0', help='kf')\n",
    "parser.add_argument('-rsc',  type=int, default=3, help='random_subcrops')\n",
    "parser.add_argument('-upc',  type=int, default=True, help='precompute')\n",
    "main_args = parser.parse_args(['-gpu', '-1', '-upc', '0'])\n",
    "#main_args = parser.parse_args()\n",
    "print_big_bar()"
   ]
  },
  {
   "cell_type": "code",
   "execution_count": 5,
   "metadata": {},
   "outputs": [
    {
     "name": "stdout",
     "output_type": "stream",
     "text": [
      "────────────────────────────────────────────────────────────────────────────────────────────────────\n",
      "found filedirs: (../../surveys-save/)\n",
      "(0) - ../../surveys-save/alerceZTFv7.1/survey=alerceZTFv7.1°bands=gr°mode=onlySNe°method=spm-mcmc-estw.splcds - 79.724[mbs]\n",
      "────────────────────────────────────────────────────────────────────────────────────────────────────\n",
      "filedirs after searching with filters: (../../surveys-save/)\n",
      "(0) - ../../surveys-save/alerceZTFv7.1/survey=alerceZTFv7.1°bands=gr°mode=onlySNe°method=spm-mcmc-estw.splcds - 79.724[mbs]\n",
      "────────────────────────────────────────────────────────────────────────────────────────────────────\n"
     ]
    }
   ],
   "source": [
    "###################################################################################################################################################\n",
    "from fuzzytools.files import search_for_filedirs\n",
    "from lchandler import C_ as C_\n",
    "\n",
    "surveys_rootdir = '../../surveys-save/'\n",
    "filedirs = search_for_filedirs(surveys_rootdir, fext=C_.EXT_SPLIT_LIGHTCURVE)"
   ]
  },
  {
   "cell_type": "code",
   "execution_count": 6,
   "metadata": {},
   "outputs": [
    {
     "name": "stdout",
     "output_type": "stream",
     "text": [
      "\u001b[34m> loading: ../../surveys-save/alerceZTFv7.1/survey=alerceZTFv7.1°bands=gr°mode=onlySNe°method=spm-mcmc-estw.splcds\u001b[0m\n",
      "LCDataset:\n",
      "[outliers - samples 10]\n",
      "(.) obs_samples: 541 - min_len: 14 - max_dur: 408.0[days] - dur(p50): 133.8[days] - cadence(p50): 1.0[days]\n",
      "(g) obs_samples: 260 - min_len: 6 - max_dur: 408.0[days] - dur(p50): 133.8[days] - cadence(p50): 3.0[days]\n",
      "(r) obs_samples: 281 - min_len: 8 - max_dur: 376.0[days] - dur(p50): 128.7[days] - cadence(p50): 3.0[days]\n",
      "   |█▌      | SLSN - 2/10 (20.00%)\n",
      "   |▊       | SNIa - 1/10 (10.00%)\n",
      "   |█▌      | SNIbc - 2/10 (20.00%)\n",
      "   |████    | allSNII - 5/10 (50.00%)\n",
      "────────────────────────────────────────────────────────────────────────────────────────────────────\n",
      "[faint - samples 48]\n",
      "(.) obs_samples: 1,107 - min_len: 7 - max_dur: 298.1[days] - dur(p50): 40.5[days] - cadence(p50): 1.0[days]\n",
      "(g) obs_samples: 450 - min_len: 0 - max_dur: 221.7[days] - dur(p50): 28.0[days] - cadence(p50): 2.9[days]\n",
      "(r) obs_samples: 657 - min_len: 4 - max_dur: 298.1[days] - dur(p50): 38.9[days] - cadence(p50): 2.9[days]\n",
      "   |█▏      | SLSN - 7/48 (14.58%)\n",
      "   |███▊    | SNIa - 23/48 (47.92%)\n",
      "   |▌       | SNIbc - 3/48 (6.25%)\n",
      "   |██▌     | allSNII - 15/48 (31.25%)\n",
      "────────────────────────────────────────────────────────────────────────────────────────────────────\n",
      "[raw - samples 1,940]\n",
      "(.) obs_samples: 53,326 - min_len: 6 - max_dur: 538.8[days] - dur(p50): 53.0[days] - cadence(p50): 1.0[days]\n",
      "(g) obs_samples: 23,566 - min_len: 0 - max_dur: 538.7[days] - dur(p50): 39.0[days] - cadence(p50): 3.0[days]\n",
      "(r) obs_samples: 29,760 - min_len: 0 - max_dur: 538.7[days] - dur(p50): 51.0[days] - cadence(p50): 3.0[days]\n",
      "   |        | SLSN - 22/1,940 (1.13%)\n",
      "   |██████  | SNIa - 1,477/1,940 (76.13%)\n",
      "   |▍       | SNIbc - 95/1,940 (4.90%)\n",
      "   |█▍      | allSNII - 346/1,940 (17.84%)\n",
      "────────────────────────────────────────────────────────────────────────────────────────────────────\n",
      "[0@train - samples 1,164]\n",
      "(.) obs_samples: 29,564 - min_len: 6 - max_dur: 538.8[days] - dur(p50): 53.1[days] - cadence(p50): 2.8[days]\n",
      "(g) obs_samples: 13,114 - min_len: 0 - max_dur: 538.7[days] - dur(p50): 39.9[days] - cadence(p50): 3.0[days]\n",
      "(r) obs_samples: 16,450 - min_len: 0 - max_dur: 538.7[days] - dur(p50): 51.0[days] - cadence(p50): 3.0[days]\n",
      "   |        | SLSN - 13/1,164 (1.12%)\n",
      "   |██████  | SNIa - 886/1,164 (76.12%)\n",
      "   |▍       | SNIbc - 57/1,164 (4.90%)\n",
      "   |█▍      | allSNII - 208/1,164 (17.87%)\n",
      "────────────────────────────────────────────────────────────────────────────────────────────────────\n",
      "[0@val - samples 387]\n",
      "(.) obs_samples: 11,270 - min_len: 7 - max_dur: 443.9[days] - dur(p50): 50.1[days] - cadence(p50): 1.0[days]\n",
      "(g) obs_samples: 4,866 - min_len: 0 - max_dur: 443.9[days] - dur(p50): 35.0[days] - cadence(p50): 3.0[days]\n",
      "(r) obs_samples: 6,404 - min_len: 0 - max_dur: 443.9[days] - dur(p50): 48.9[days] - cadence(p50): 3.0[days]\n",
      "   |        | SLSN - 4/387 (1.03%)\n",
      "   |██████  | SNIa - 295/387 (76.23%)\n",
      "   |▍       | SNIbc - 19/387 (4.91%)\n",
      "   |█▍      | allSNII - 69/387 (17.83%)\n",
      "────────────────────────────────────────────────────────────────────────────────────────────────────\n",
      "[0@test - samples 389]\n",
      "(.) obs_samples: 12,420 - min_len: 7 - max_dur: 215.2[days] - dur(p50): 55.9[days] - cadence(p50): 1.0[days]\n",
      "(g) obs_samples: 5,559 - min_len: 0 - max_dur: 209.3[days] - dur(p50): 39.9[days] - cadence(p50): 2.9[days]\n",
      "(r) obs_samples: 6,861 - min_len: 0 - max_dur: 212.3[days] - dur(p50): 53.5[days] - cadence(p50): 2.9[days]\n",
      "   |        | SLSN - 5/389 (1.29%)\n",
      "   |██████  | SNIa - 296/389 (76.09%)\n",
      "   |▍       | SNIbc - 19/389 (4.88%)\n",
      "   |█▍      | allSNII - 69/389 (17.74%)\n",
      "────────────────────────────────────────────────────────────────────────────────────────────────────\n",
      "[1@train - samples 1,163]\n",
      "(.) obs_samples: 33,827 - min_len: 6 - max_dur: 443.9[days] - dur(p50): 52.9[days] - cadence(p50): 1.0[days]\n",
      "(g) obs_samples: 14,909 - min_len: 0 - max_dur: 443.9[days] - dur(p50): 38.5[days] - cadence(p50): 3.0[days]\n",
      "(r) obs_samples: 18,918 - min_len: 0 - max_dur: 443.9[days] - dur(p50): 50.8[days] - cadence(p50): 3.0[days]\n",
      "   |        | SLSN - 13/1,163 (1.12%)\n",
      "   |██████  | SNIa - 885/1,163 (76.10%)\n",
      "   |▍       | SNIbc - 57/1,163 (4.90%)\n",
      "   |█▍      | allSNII - 208/1,163 (17.88%)\n",
      "────────────────────────────────────────────────────────────────────────────────────────────────────\n",
      "[1@val - samples 387]\n",
      "(.) obs_samples: 10,726 - min_len: 6 - max_dur: 538.8[days] - dur(p50): 48.9[days] - cadence(p50): 1.0[days]\n",
      "(g) obs_samples: 4,786 - min_len: 0 - max_dur: 538.7[days] - dur(p50): 37.9[days] - cadence(p50): 3.0[days]\n",
      "(r) obs_samples: 5,940 - min_len: 0 - max_dur: 538.7[days] - dur(p50): 47.9[days] - cadence(p50): 3.0[days]\n",
      "   |        | SLSN - 4/387 (1.03%)\n",
      "   |██████  | SNIa - 295/387 (76.23%)\n",
      "   |▍       | SNIbc - 19/387 (4.91%)\n",
      "   |█▍      | allSNII - 69/387 (17.83%)\n",
      "────────────────────────────────────────────────────────────────────────────────────────────────────\n",
      "[1@test - samples 389]\n",
      "(.) obs_samples: 8,705 - min_len: 6 - max_dur: 430.8[days] - dur(p50): 58.8[days] - cadence(p50): 2.9[days]\n",
      "(g) obs_samples: 3,844 - min_len: 0 - max_dur: 396.9[days] - dur(p50): 42.8[days] - cadence(p50): 4.0[days]\n",
      "(r) obs_samples: 4,861 - min_len: 0 - max_dur: 430.8[days] - dur(p50): 55.3[days] - cadence(p50): 4.0[days]\n",
      "   |        | SLSN - 5/389 (1.29%)\n",
      "   |██████  | SNIa - 296/389 (76.09%)\n",
      "   |▍       | SNIbc - 19/389 (4.88%)\n",
      "   |█▍      | allSNII - 69/389 (17.74%)\n",
      "────────────────────────────────────────────────────────────────────────────────────────────────────\n",
      "[2@train - samples 1,163]\n",
      "(.) obs_samples: 31,656 - min_len: 6 - max_dur: 538.8[days] - dur(p50): 53.8[days] - cadence(p50): 1.0[days]\n",
      "(g) obs_samples: 14,001 - min_len: 0 - max_dur: 538.7[days] - dur(p50): 38.8[days] - cadence(p50): 3.0[days]\n",
      "(r) obs_samples: 17,655 - min_len: 0 - max_dur: 538.7[days] - dur(p50): 51.8[days] - cadence(p50): 3.0[days]\n",
      "   |        | SLSN - 13/1,163 (1.12%)\n",
      "   |██████  | SNIa - 885/1,163 (76.10%)\n",
      "   |▍       | SNIbc - 57/1,163 (4.90%)\n",
      "   |█▍      | allSNII - 208/1,163 (17.88%)\n",
      "────────────────────────────────────────────────────────────────────────────────────────────────────\n",
      "[2@val - samples 387]\n",
      "(.) obs_samples: 9,833 - min_len: 6 - max_dur: 422.0[days] - dur(p50): 56.0[days] - cadence(p50): 2.9[days]\n",
      "(g) obs_samples: 4,304 - min_len: 0 - max_dur: 421.9[days] - dur(p50): 42.0[days] - cadence(p50): 3.0[days]\n",
      "(r) obs_samples: 5,529 - min_len: 0 - max_dur: 416.0[days] - dur(p50): 53.4[days] - cadence(p50): 3.0[days]\n",
      "   |        | SLSN - 4/387 (1.03%)\n",
      "   |██████  | SNIa - 295/387 (76.23%)\n",
      "   |▍       | SNIbc - 19/387 (4.91%)\n",
      "   |█▍      | allSNII - 69/387 (17.83%)\n",
      "────────────────────────────────────────────────────────────────────────────────────────────────────\n",
      "[2@test - samples 389]\n",
      "(.) obs_samples: 11,763 - min_len: 6 - max_dur: 443.9[days] - dur(p50): 49.0[days] - cadence(p50): 1.0[days]\n",
      "(g) obs_samples: 5,231 - min_len: 0 - max_dur: 443.9[days] - dur(p50): 37.0[days] - cadence(p50): 3.0[days]\n",
      "(r) obs_samples: 6,532 - min_len: 0 - max_dur: 443.9[days] - dur(p50): 47.0[days] - cadence(p50): 3.0[days]\n",
      "   |        | SLSN - 5/389 (1.29%)\n",
      "   |██████  | SNIa - 296/389 (76.09%)\n",
      "   |▍       | SNIbc - 19/389 (4.88%)\n",
      "   |█▍      | allSNII - 69/389 (17.74%)\n",
      "────────────────────────────────────────────────────────────────────────────────────────────────────\n",
      "[0@train.spm-mcmc-estw - samples 37,248]\n",
      "(.) obs_samples: 1,392,855 - min_len: 8 - max_dur: 621.8[days] - dur(p50): 56.1[days] - cadence(p50): 1.1[days]\n",
      "(g) obs_samples: 615,705 - min_len: 0 - max_dur: 538.0[days] - dur(p50): 42.1[days] - cadence(p50): 2.0[days]\n",
      "(r) obs_samples: 777,150 - min_len: 0 - max_dur: 618.1[days] - dur(p50): 53.0[days] - cadence(p50): 2.0[days]\n",
      "   |        | SLSN - 416/37,248 (1.12%)\n",
      "   |██████  | SNIa - 28,352/37,248 (76.12%)\n",
      "   |▍       | SNIbc - 1,824/37,248 (4.90%)\n",
      "   |█▍      | allSNII - 6,656/37,248 (17.87%)\n",
      "────────────────────────────────────────────────────────────────────────────────────────────────────\n",
      "[0@val.spm-mcmc-estw - samples 12,384]\n",
      "(.) obs_samples: 533,183 - min_len: 9 - max_dur: 443.6[days] - dur(p50): 55.4[days] - cadence(p50): 1.0[days]\n",
      "(g) obs_samples: 228,928 - min_len: 0 - max_dur: 443.1[days] - dur(p50): 39.0[days] - cadence(p50): 1.9[days]\n",
      "(r) obs_samples: 304,255 - min_len: 0 - max_dur: 443.1[days] - dur(p50): 53.0[days] - cadence(p50): 1.9[days]\n",
      "   |        | SLSN - 128/12,384 (1.03%)\n",
      "   |██████  | SNIa - 9,440/12,384 (76.23%)\n",
      "   |▍       | SNIbc - 608/12,384 (4.91%)\n",
      "   |█▍      | allSNII - 2,208/12,384 (17.83%)\n",
      "────────────────────────────────────────────────────────────────────────────────────────────────────\n",
      "\n"
     ]
    }
   ],
   "source": [
    "import numpy as np\n",
    "from fuzzytools.files import load_pickle, save_pickle\n",
    "from fuzzytools.files import get_dict_from_filedir\n",
    "\n",
    "filedir = f'../../surveys-save/alerceZTFv7.1/survey=alerceZTFv7.1°bands=gr°mode=onlySNe°method={main_args.method}.splcds'\n",
    "filedict = get_dict_from_filedir(filedir)\n",
    "root_folder = filedict['*rootdir*']\n",
    "cfilename = filedict['*cfilename*']\n",
    "survey = filedict['survey']\n",
    "lcdataset = load_pickle(filedir)\n",
    "print(lcdataset)"
   ]
  },
  {
   "cell_type": "code",
   "execution_count": 7,
   "metadata": {},
   "outputs": [
    {
     "name": "stdout",
     "output_type": "stream",
     "text": [
      "(0) - mdl_kwargs: {'C': <class 'lcclassifier.models.model_baselines.ParallelAttnTCNNClassifier'>, 'tcnn_embd_dims': 30, 'tcnn_layers': 2, 'dropout': {'p': 0.25}, 'band_names': ['g', 'r'], 'output_dims': 4}\n",
      "(0) - dataset_kwargs: {'in_attrs': ['obs', 'obse'], 'rec_attr': 'obs', 'max_day': 150.0, 'te_features': 8}\n",
      "(0) - dec_mdl_kwargs: {'C': <class 'lcclassifier.models.rnn.decoders.RNNDecoderS'>, 'rnn_cell_name': 'GRU', 'rnn_layers': 1, 'dropout': {'p': 0.25}, 'band_names': ['g', 'r'], 'output_dims': 4}\n",
      "(0) - class_mdl_kwargs: {'C': <class 'lcclassifier.models.classifiers.SimpleClassifier'>, 'embd_layers': 1, 'dropout': {'p': 0.25}, 'band_names': ['g', 'r'], 'output_dims': 4}\n",
      "---\n",
      "(1) - mdl_kwargs: {'C': <class 'lcclassifier.models.model_baselines.ParallelAttnTCNNClassifier'>, 'tcnn_embd_dims': 60, 'tcnn_layers': 2, 'dropout': {'p': 0.25}, 'band_names': ['g', 'r'], 'output_dims': 4}\n",
      "(1) - dataset_kwargs: {'in_attrs': ['obs', 'obse'], 'rec_attr': 'obs', 'max_day': 150.0, 'te_features': 8}\n",
      "(1) - dec_mdl_kwargs: {'C': <class 'lcclassifier.models.rnn.decoders.RNNDecoderS'>, 'rnn_cell_name': 'GRU', 'rnn_layers': 1, 'dropout': {'p': 0.25}, 'band_names': ['g', 'r'], 'output_dims': 4}\n",
      "(1) - class_mdl_kwargs: {'C': <class 'lcclassifier.models.classifiers.SimpleClassifier'>, 'embd_layers': 1, 'dropout': {'p': 0.25}, 'band_names': ['g', 'r'], 'output_dims': 4}\n",
      "---\n",
      "\n"
     ]
    }
   ],
   "source": [
    "from lcclassifier.models.model_collections import ModelCollections\n",
    "\n",
    "model_collections = ModelCollections(lcdataset)\n",
    "#getattr(model_collections, main_args.mc)()\n",
    "#getattr(model_collections, 'parallel_rnn_models_dt')()\n",
    "#getattr(model_collections, 'parallel_rnn_models_te')()\n",
    "#getattr(model_collections, 'serial_rnn_models_dt')()\n",
    "#getattr(model_collections, 'serial_rnn_models_te')()\n",
    "#getattr(model_collections, 'parallel_tcnn_models_dt')()\n",
    "#getattr(model_collections, 'parallel_tcnn_models_te')()\n",
    "#getattr(model_collections, 'serial_tcnn_models_te')()\n",
    "getattr(model_collections, 'parallel_atcnn_models_te')()\n",
    "#getattr(model_collections, 'serial_atcnn_models_te')()\n",
    "print(model_collections)"
   ]
  },
  {
   "cell_type": "code",
   "execution_count": 6,
   "metadata": {},
   "outputs": [],
   "source": [
    "### LOSS & METRICS\n",
    "from lcclassifier.losses import LCMSEReconstruction, LCXEntropy, LCCompleteLoss\n",
    "from lcclassifier.metrics import LCXEntropyMetric, LCAccuracy\n",
    "\n",
    "loss_kwargs = {\n",
    "    'model_output_is_with_softmax':False,\n",
    "    'target_is_onehot':False,\n",
    "    'uses_poblation_weights':True,\n",
    "}\n",
    "#pt_loss = LCCompleteLoss('wmse', lcdataset['raw'].band_names)\n",
    "#pt_loss = LCXEntropy('wxentropy', **loss_kwargs)\n",
    "pt_loss = LCCompleteLoss('wmse-xentropy', lcdataset['raw'].band_names, **loss_kwargs)\n",
    "pt_metrics = [\n",
    "    LCXEntropyMetric('xentropy', **loss_kwargs),\n",
    "    LCAccuracy('b-accuracy', balanced=True, **loss_kwargs),\n",
    "    LCAccuracy('accuracy', **loss_kwargs),\n",
    "]"
   ]
  },
  {
   "cell_type": "code",
   "execution_count": 7,
   "metadata": {},
   "outputs": [],
   "source": [
    "import os\n",
    "if main_args.gpu>=0:\n",
    "    os.environ['CUDA_DEVICE_ORDER'] = 'PCI_BUS_ID' # see issue #152\n",
    "    os.environ['CUDA_VISIBLE_DEVICES'] = str(main_args.gpu) # CUDA-GPU"
   ]
  },
  {
   "cell_type": "code",
   "execution_count": 8,
   "metadata": {
    "scrolled": false
   },
   "outputs": [
    {
     "name": "stderr",
     "output_type": "stream",
     "text": [
      "/home/opimentel/anaconda3/envs/pytorch/lib/python3.7/site-packages/sklearn/preprocessing/data.py:2239: UserWarning: n_quantiles (5000) is greater than the total number of samples (4866). n_quantiles is set to n_samples.\n",
      "  % (self.n_quantiles, n_samples))\n",
      "/home/opimentel/anaconda3/envs/pytorch/lib/python3.7/site-packages/sklearn/preprocessing/data.py:2239: UserWarning: n_quantiles (5000) is greater than the total number of samples (4866). n_quantiles is set to n_samples.\n",
      "  % (self.n_quantiles, n_samples))\n"
     ]
    },
    {
     "name": "stdout",
     "output_type": "stream",
     "text": [
      "s_train_dataset: CustomDataset(lcset_len=37,248, max_day=120.00, max_len=186, te_periods=[240.0, 120.0, 60.0, 30.0], in_attrs=['obs', 'obse'], rec_attr=obs, poblation_weights={'SLSN': 0.7291233584095902, 'SNIa': 0.031563476408803796, 'SNIbc': 0.17818648348150024, 'allSNII': 0.06112668170010587})\n",
      "s_val_dataset: CustomDataset(lcset_len=12,384, max_day=120.00, max_len=170, te_periods=[240.0, 120.0, 60.0, 30.0], in_attrs=['obs', 'obse'], rec_attr=obs, poblation_weights={'SLSN': 0.7688628832401817, 'SNIa': 0.016006571184032144, 'SNIbc': 0.1657734372665637, 'allSNII': 0.04935710830922252})\n",
      "r_train_dataset: CustomDataset(lcset_len=1,164, max_day=120.00, max_len=147, te_periods=[240.0, 120.0, 60.0, 30.0], in_attrs=['obs', 'obse'], rec_attr=obs, poblation_weights={'SLSN': 0.7651075333352791, 'SNIa': 0.011723248920097532, 'SNIbc': 0.17488232279678406, 'allSNII': 0.048286894947839325})\n",
      "r_val_dataset: CustomDataset(lcset_len=387, max_day=120.00, max_len=129, te_periods=[240.0, 120.0, 60.0, 30.0], in_attrs=['obs', 'obse'], rec_attr=obs, poblation_weights={'SLSN': 0.7796654322079402, 'SNIa': 0.010726296784524752, 'SNIbc': 0.16426322478043476, 'allSNII': 0.04534504622710032})\n",
      "x_projection: ModuleDict(\n",
      "  (g): Linear(input_dims=2, output_dims=64, activation=linear, in_dropout=0.0, out_dropout=0.0, bias=True, split_out=1)(192[p])\n",
      "  (r): Linear(input_dims=2, output_dims=64, activation=linear, in_dropout=0.0, out_dropout=0.0, bias=True, split_out=1)(192[p])\n",
      ")\n",
      "te_film: FILM(mod_input_dims=8, mod_output_dims=64, in_dropout=0.0, out_dropout=0.0, bias=True)(1,152[p])\n",
      "ml_cnn: ModuleDict(\n",
      "  (g): MLConv1D(\n",
      "    (0) - Conv1DLinear(input_dims=64, input_space=[None], output_dims=64, output_space=[None], spatial_field=[6], cnn_kwargs={'kernel_size': [5], 'stride': [1], 'dilation': [1]}, pool_kwargs={'kernel_size': [2], 'stride': [1], 'dilation': [1]}, padding_mode=causal, activation=relu, in_dropout=0.25, out_dropout=0.0, bias=True)(20,544[p])\n",
      "    (1) - Conv1DLinear(input_dims=64, input_space=[None], output_dims=64, output_space=[None], spatial_field=[6], cnn_kwargs={'kernel_size': [5], 'stride': [1], 'dilation': [1]}, pool_kwargs={'kernel_size': [2], 'stride': [1], 'dilation': [1]}, padding_mode=causal, activation=linear, in_dropout=0.25, out_dropout=0.0, bias=True)(20,544[p])\n",
      "  )(41,088[p])\n",
      "  (r): MLConv1D(\n",
      "    (0) - Conv1DLinear(input_dims=64, input_space=[None], output_dims=64, output_space=[None], spatial_field=[6], cnn_kwargs={'kernel_size': [5], 'stride': [1], 'dilation': [1]}, pool_kwargs={'kernel_size': [2], 'stride': [1], 'dilation': [1]}, padding_mode=causal, activation=relu, in_dropout=0.25, out_dropout=0.0, bias=True)(20,544[p])\n",
      "    (1) - Conv1DLinear(input_dims=64, input_space=[None], output_dims=64, output_space=[None], spatial_field=[6], cnn_kwargs={'kernel_size': [5], 'stride': [1], 'dilation': [1]}, pool_kwargs={'kernel_size': [2], 'stride': [1], 'dilation': [1]}, padding_mode=causal, activation=linear, in_dropout=0.25, out_dropout=0.0, bias=True)(20,544[p])\n",
      "  )(41,088[p])\n",
      ")\n",
      "ml_attn: MLSelfAttn(\n",
      "  (0) - SelfAttn(input_dims=64, output_dims=64, max_curve_length=None, num_heads=2, activation=linear, in_dropout=0.25, out_dropout=0.0, attn_dropout=0.0, mlp_dropout=0.0, bias=True)(33,472[p])\n",
      ")(33,472[p])\n",
      "attn_te_film: FILM(mod_input_dims=8, mod_output_dims=64, in_dropout=0.0, out_dropout=0.0, bias=True)(1,152[p])\n",
      "x_projection: Linear(input_dims=66, output_dims=64, activation=linear, in_dropout=0.0, out_dropout=0.0, bias=True, split_out=1)(4,288[p])\n",
      "te_film: FILM(mod_input_dims=8, mod_output_dims=64, in_dropout=0.0, out_dropout=0.0, bias=True)(1,152[p])\n",
      "ml_rnn: MLRNN(\n",
      "  (0) - GRU(input_dims=64, output_dims=64, max_curve_length=None, in_dropout=0.25, out_dropout=0.0, bias=True, bidirectional=False)(24,960[p])\n",
      ")(24,960[p])\n",
      "dz_projection: MLP(\n",
      "  (0) - Linear(input_dims=64, output_dims=64, activation=linear, in_dropout=0.25, out_dropout=0.0, bias=True, split_out=1)(4,160[p])\n",
      "  (1) - Linear(input_dims=64, output_dims=1, activation=linear, in_dropout=0.25, out_dropout=0.0, bias=True, split_out=1)(65[p])\n",
      ")(4,225[p])\n",
      "classifier_mlp: MLP(\n",
      "  (0) - Linear(input_dims=64, output_dims=64, activation=relu, in_dropout=0.25, out_dropout=0.0, bias=True, split_out=1)(4,160[p])\n",
      "  (1) - Linear(input_dims=64, output_dims=4, activation=linear, in_dropout=0.25, out_dropout=0.0, bias=True, split_out=1)(260[p])\n",
      ")(4,420[p])\n",
      "▄▄▄▄▄▄▄▄▄▄▄▄▄▄▄▄▄▄▄▄▄▄▄▄▄▄▄▄▄▄▄▄▄▄▄▄▄▄▄▄▄▄▄▄▄▄▄▄▄▄▄▄▄▄▄▄▄▄▄▄▄▄▄▄▄▄▄▄▄▄▄▄▄▄▄▄▄▄▄▄▄▄▄▄▄▄▄▄▄▄▄▄▄▄▄▄▄▄▄▄\n",
      "\u001b[34mmodel_name: mdl=ParallelAttnTCNn°in-dims=2°te-dims=8°enc-emb=g64.g64.g64-r64.r64.r64°dec-emb=64-64(157,381[p])\u001b[0m\n",
      "\u001b[34mid: 0\u001b[0m\n",
      "\u001b[32mdevice: cpu - device_name: cpu\u001b[0m\n",
      "save_rootdir: ../save/training/mdl=ParallelAttnTCNn°in-dims=2°te-dims=8°enc-emb=g64.g64.g64-r64.r64.r64°dec-emb=64-64°mode=pt°ef-be=0.0001°rsc=3\n",
      "[wmse-xentropy]\n",
      " - opt-parameters: 157,381[p] - device: cpu\n",
      " - save-mode: only_inf_loss\n",
      " - counter_k: k(0/0) - counter_epoch: val_epoch(0/1)»earlystop_epoch(0/20)\n"
     ]
    },
    {
     "name": "stderr",
     "output_type": "stream",
     "text": [
      "../../fuzzy-torch/fuzzytorch/handlers.py:62: UserWarning: there is not CUDA nor GPUs... Using CPU >:(\n",
      "  warnings.warn('there is not CUDA nor GPUs... Using CPU >:(')\n"
     ]
    },
    {
     "ename": "AssertionError",
     "evalue": "",
     "output_type": "error",
     "traceback": [
      "\u001b[0;31m---------------------------------------------------------------------------\u001b[0m",
      "\u001b[0;31mAssertionError\u001b[0m                            Traceback (most recent call last)",
      "\u001b[0;32m<ipython-input-8-c8c617bd00bc>\u001b[0m in \u001b[0;36m<module>\u001b[0;34m\u001b[0m\n\u001b[1;32m    106\u001b[0m         \u001b[0;32mif\u001b[0m \u001b[0mki\u001b[0m\u001b[0;34m==\u001b[0m\u001b[0;36m0\u001b[0m\u001b[0;34m:\u001b[0m\u001b[0;34m\u001b[0m\u001b[0;34m\u001b[0m\u001b[0m\n\u001b[1;32m    107\u001b[0m             \u001b[0mprint\u001b[0m\u001b[0;34m(\u001b[0m\u001b[0mmodel_train_handler\u001b[0m\u001b[0;34m)\u001b[0m\u001b[0;34m\u001b[0m\u001b[0;34m\u001b[0m\u001b[0m\n\u001b[0;32m--> 108\u001b[0;31m         \u001b[0;32massert\u001b[0m \u001b[0;36m0\u001b[0m\u001b[0;34m\u001b[0m\u001b[0;34m\u001b[0m\u001b[0m\n\u001b[0m\u001b[1;32m    109\u001b[0m         \u001b[0mmodel_train_handler\u001b[0m\u001b[0;34m.\u001b[0m\u001b[0mfit_loader\u001b[0m\u001b[0;34m(\u001b[0m\u001b[0ms_train_loader\u001b[0m\u001b[0;34m,\u001b[0m \u001b[0ms_val_loader\u001b[0m\u001b[0;34m)\u001b[0m \u001b[0;31m# main fit\u001b[0m\u001b[0;34m\u001b[0m\u001b[0;34m\u001b[0m\u001b[0m\n",
      "\u001b[0;31mAssertionError\u001b[0m: "
     ]
    }
   ],
   "source": [
    "%load_ext autoreload\n",
    "%autoreload 2\n",
    "### GRID\n",
    "from lcclassifier.datasets import CustomDataset\n",
    "from lcclassifier.dataloaders import CustomDataLoader\n",
    "\n",
    "for mp_grid in model_collections.pms:\n",
    "    ### DATASETS\n",
    "    dataset_kwargs = mp_grid['dataset_kwargs']\n",
    "    s_train_dataset = CustomDataset(lcdataset, f'{main_args.kf}@train.{main_args.method}', **dataset_kwargs)\n",
    "    s_val_dataset = CustomDataset(lcdataset, f'{main_args.kf}@val.{main_args.method}', **dataset_kwargs)\n",
    "    r_train_dataset = CustomDataset(lcdataset, f'{main_args.kf}@train', **dataset_kwargs)\n",
    "    r_val_dataset = CustomDataset(lcdataset, f'{main_args.kf}@val', **dataset_kwargs)\n",
    "\n",
    "    mp_grid['mdl_kwargs']['curvelength_max'] = s_train_dataset.get_max_len()\n",
    "    mp_grid['dec_mdl_kwargs']['curvelength_max'] = s_train_dataset.get_max_len()\n",
    "    s_train_dataset.transfer_metadata_to(s_val_dataset) # transfer metadata to val/test\n",
    "    s_train_dataset.transfer_metadata_to(r_train_dataset) # transfer metadata to val/test\n",
    "    s_train_dataset.transfer_metadata_to(r_val_dataset) # transfer metadata to val/test\n",
    "\n",
    "    print('s_train_dataset:', s_train_dataset)\n",
    "    print('s_val_dataset:', s_val_dataset)\n",
    "    print('r_train_dataset:', r_train_dataset)\n",
    "    print('r_val_dataset:', r_val_dataset)\n",
    "    \n",
    "    if main_args.upc:\n",
    "        synth_precomputed_samples = 4\n",
    "        real_precomputed_samples = synth_precomputed_samples*32\n",
    "        s_train_dataset.precompute_samples(synth_precomputed_samples)\n",
    "        s_val_dataset.precompute_samples(synth_precomputed_samples)\n",
    "        r_train_dataset.precompute_samples(real_precomputed_samples)\n",
    "        r_val_dataset.precompute_samples(real_precomputed_samples)\n",
    "\n",
    "    ### DATALOADERS\n",
    "    loader_kwargs = {\n",
    "        #'num_workers':2, # bug?\n",
    "        'batch_size':main_args.batch_size,\n",
    "        'random_subcrops':main_args.rsc,\n",
    "    }\n",
    "    s_train_loader = CustomDataLoader(s_train_dataset, shuffle=True, **loader_kwargs)\n",
    "    s_val_loader = CustomDataLoader(s_val_dataset, shuffle=False, **loader_kwargs)\n",
    "    r_train_loader = CustomDataLoader(r_train_dataset, shuffle=True, **loader_kwargs)\n",
    "    r_val_loader = CustomDataLoader(r_val_dataset, shuffle=False, **loader_kwargs)\n",
    "\n",
    "    ### IDS\n",
    "    model_ids = list(range(main_args.iid, main_args.fid+1))\n",
    "    for ki,model_id in enumerate(model_ids): # IDS\n",
    "        ### GET MODEL\n",
    "        mdl_kwargs = mp_grid['mdl_kwargs']\n",
    "        for k_ in ['mdl_kwargs', 'dec_mdl_kwargs']:\n",
    "            mp_grid[k_]['input_dims'] = s_train_loader.dataset.get_output_dims()\n",
    "            mp_grid[k_]['te_features'] = s_train_loader.dataset.get_te_features_dims()\n",
    "            #mp_grid[k_]['curvelength_max'] = s_train_dataset.get_max_len()\n",
    "\n",
    "        model = mdl_kwargs['C'](**mp_grid)\n",
    "\n",
    "        ### OPTIMIZER\n",
    "        import torch.optim as optims\n",
    "        from fuzzytorch.optimizers import LossOptimizer\n",
    "\n",
    "        decay_kwargs = {\n",
    "            'lr':0.95,\n",
    "        }\n",
    "        pt_optimizer_kwargs = {\n",
    "            'opt_kwargs':{\n",
    "                'lr':.5e-3,\n",
    "            },\n",
    "            #'decay_kwargs':decay_kwargs,\n",
    "        }\n",
    "        pt_optimizer = LossOptimizer(model, optims.Adam, **pt_optimizer_kwargs)\n",
    "\n",
    "        ### MONITORS\n",
    "        from fuzzytools.prints import print_bar\n",
    "        from fuzzytorch.handlers import ModelTrainHandler\n",
    "        from fuzzytorch.monitors import LossMonitor\n",
    "        from fuzzytorch import C_\n",
    "        import math\n",
    "\n",
    "        monitor_config = {\n",
    "            'val_epoch_counter_duration':1, # every k epochs check\n",
    "            'earlystop_epoch_duration':20,\n",
    "            #'save_mode':C_.SM_NO_SAVE,\n",
    "            #'save_mode':C_.SM_ALL,\n",
    "            #'save_mode':C_.SM_ONLY_ALL,\n",
    "            #'save_mode':C_.SM_ONLY_INF_METRIC,\n",
    "            'save_mode':C_.SM_ONLY_INF_LOSS,\n",
    "            #'save_mode':C_.SM_ONLY_SUP_METRIC,\n",
    "        }\n",
    "        pt_loss_monitors = LossMonitor(pt_loss, pt_optimizer, pt_metrics, **monitor_config)\n",
    "\n",
    "        ### TRAIN\n",
    "        mtrain_config = {\n",
    "            'id':model_id,\n",
    "            'epochs_max':1e5,\n",
    "            'save_rootdir':f'../save/training',\n",
    "            'extra_model_name_dict':{\n",
    "                'mode':'pt',\n",
    "                #'ef-be':f'1e{math.log10(s_train_loader.dataset.effective_beta_eps)}',\n",
    "                'ef-be':s_train_loader.dataset.effective_beta_eps,\n",
    "                'rsc':main_args.rsc,\n",
    "            },\n",
    "            'uses_train_eval_loader_methods':True,\n",
    "        }\n",
    "        model_train_handler = ModelTrainHandler(model, pt_loss_monitors, **mtrain_config)\n",
    "        model_train_handler.build_gpu(0 if main_args.gpu>=0 else None)\n",
    "        if ki==0:\n",
    "            print(model_train_handler)\n",
    "        assert 0\n",
    "        model_train_handler.fit_loader(s_train_loader, s_val_loader) # main fit\n"
   ]
  },
  {
   "cell_type": "code",
   "execution_count": 9,
   "metadata": {},
   "outputs": [
    {
     "ename": "TypeError",
     "evalue": "'NoneType' object is not subscriptable",
     "output_type": "error",
     "traceback": [
      "\u001b[0;31m---------------------------------------------------------------------------\u001b[0m",
      "\u001b[0;31mTypeError\u001b[0m                                 Traceback (most recent call last)",
      "\u001b[0;32m<ipython-input-9-23137435e6d7>\u001b[0m in \u001b[0;36m<module>\u001b[0;34m\u001b[0m\n\u001b[1;32m      7\u001b[0m     \u001b[0;34m'save_rootdir'\u001b[0m\u001b[0;34m:\u001b[0m\u001b[0;34mf'../save/train_plots'\u001b[0m\u001b[0;34m,\u001b[0m\u001b[0;34m\u001b[0m\u001b[0;34m\u001b[0m\u001b[0m\n\u001b[1;32m      8\u001b[0m }\n\u001b[0;32m----> 9\u001b[0;31m \u001b[0mffplots\u001b[0m\u001b[0;34m.\u001b[0m\u001b[0mplot_loss\u001b[0m\u001b[0;34m(\u001b[0m\u001b[0mmodel_train_handler\u001b[0m\u001b[0;34m,\u001b[0m \u001b[0;34m**\u001b[0m\u001b[0mplot_kwargs\u001b[0m\u001b[0;34m)\u001b[0m\u001b[0;34m\u001b[0m\u001b[0;34m\u001b[0m\u001b[0m\n\u001b[0m\u001b[1;32m     10\u001b[0m \u001b[0;31m#ffplots.plot_evaluation_loss(train_handler, **plot_kwargs)\u001b[0m\u001b[0;34m\u001b[0m\u001b[0;34m\u001b[0m\u001b[0;34m\u001b[0m\u001b[0m\n\u001b[1;32m     11\u001b[0m \u001b[0;31m#ffplots.plot_evaluation_metrics(train_handler, **plot_kwargs)\u001b[0m\u001b[0;34m\u001b[0m\u001b[0;34m\u001b[0m\u001b[0;34m\u001b[0m\u001b[0m\n",
      "\u001b[0;32m~/tesis/fuzzy-torch/fuzzytorch/plots/training.py\u001b[0m in \u001b[0;36mplot_loss\u001b[0;34m(train_handler, sigma, save_rootdir, fig, ax, figsize, cmap, alpha, xlim, ylim, verbose, **kwargs)\u001b[0m\n\u001b[1;32m     28\u001b[0m         \u001b[0mfig\u001b[0m\u001b[0;34m,\u001b[0m \u001b[0max\u001b[0m \u001b[0;34m=\u001b[0m \u001b[0mplt\u001b[0m\u001b[0;34m.\u001b[0m\u001b[0msubplots\u001b[0m\u001b[0;34m(\u001b[0m\u001b[0;36m1\u001b[0m\u001b[0;34m,\u001b[0m\u001b[0;36m1\u001b[0m\u001b[0;34m,\u001b[0m \u001b[0mfigsize\u001b[0m\u001b[0;34m=\u001b[0m\u001b[0mfigsize\u001b[0m\u001b[0;34m,\u001b[0m \u001b[0mdpi\u001b[0m\u001b[0;34m=\u001b[0m\u001b[0mC_\u001b[0m\u001b[0;34m.\u001b[0m\u001b[0mPLOT_DPI\u001b[0m\u001b[0;34m)\u001b[0m \u001b[0;32mif\u001b[0m \u001b[0mfig\u001b[0m \u001b[0;32mis\u001b[0m \u001b[0;32mNone\u001b[0m \u001b[0;32melse\u001b[0m \u001b[0;34m(\u001b[0m\u001b[0mfig\u001b[0m\u001b[0;34m,\u001b[0m \u001b[0max\u001b[0m\u001b[0;34m)\u001b[0m\u001b[0;34m\u001b[0m\u001b[0;34m\u001b[0m\u001b[0m\n\u001b[1;32m     29\u001b[0m         \u001b[0;32mfor\u001b[0m \u001b[0mlmonitor\u001b[0m \u001b[0;32min\u001b[0m \u001b[0mtrain_handler\u001b[0m\u001b[0;34m.\u001b[0m\u001b[0mlmonitors\u001b[0m\u001b[0;34m:\u001b[0m\u001b[0;34m\u001b[0m\u001b[0;34m\u001b[0m\u001b[0m\n\u001b[0;32m---> 30\u001b[0;31m                 \u001b[0mloss\u001b[0m \u001b[0;34m=\u001b[0m \u001b[0mlmonitor\u001b[0m\u001b[0;34m.\u001b[0m\u001b[0mloss_df\u001b[0m\u001b[0;34m[\u001b[0m\u001b[0;34m'__loss__'\u001b[0m\u001b[0;34m]\u001b[0m\u001b[0;34m\u001b[0m\u001b[0;34m\u001b[0m\u001b[0m\n\u001b[0m\u001b[1;32m     31\u001b[0m                 \u001b[0msublosses_names\u001b[0m \u001b[0;34m=\u001b[0m \u001b[0;34m[\u001b[0m\u001b[0mc\u001b[0m \u001b[0;32mfor\u001b[0m \u001b[0mc\u001b[0m \u001b[0;32min\u001b[0m \u001b[0mlmonitor\u001b[0m\u001b[0;34m.\u001b[0m\u001b[0mloss_df\u001b[0m\u001b[0;34m.\u001b[0m\u001b[0mcolumns\u001b[0m \u001b[0;32mif\u001b[0m \u001b[0mc\u001b[0m\u001b[0;34m[\u001b[0m\u001b[0;34m:\u001b[0m\u001b[0;36m2\u001b[0m\u001b[0;34m]\u001b[0m\u001b[0;34m!=\u001b[0m\u001b[0;34m'__'\u001b[0m\u001b[0;34m]\u001b[0m\u001b[0;34m\u001b[0m\u001b[0;34m\u001b[0m\u001b[0m\n\u001b[1;32m     32\u001b[0m                 \u001b[0msublosses\u001b[0m \u001b[0;34m=\u001b[0m \u001b[0mlmonitor\u001b[0m\u001b[0;34m.\u001b[0m\u001b[0mloss_df\u001b[0m\u001b[0;34m[\u001b[0m\u001b[0msublosses_names\u001b[0m\u001b[0;34m]\u001b[0m\u001b[0;34m\u001b[0m\u001b[0;34m\u001b[0m\u001b[0m\n",
      "\u001b[0;31mTypeError\u001b[0m: 'NoneType' object is not subscriptable"
     ]
    },
    {
     "data": {
      "image/png": "[encoded data removed]",
      "text/plain": [
       "<Figure size 1040x320 with 1 Axes>"
      ]
     },
     "metadata": {
      "needs_background": "light"
     },
     "output_type": "display_data"
    }
   ],
   "source": [
    "import fuzzytorch\n",
    "import fuzzytorch.plots\n",
    "import fuzzytorch.plots.training as ffplots\n",
    "\n",
    "### training plots\n",
    "plot_kwargs = {\n",
    "    'save_rootdir':f'../save/train_plots',\n",
    "}\n",
    "ffplots.plot_loss(model_train_handler, **plot_kwargs)\n",
    "#ffplots.plot_evaluation_loss(train_handler, **plot_kwargs)\n",
    "#ffplots.plot_evaluation_metrics(train_handler, **plot_kwargs)"
   ]
  },
  {
   "cell_type": "code",
   "execution_count": 15,
   "metadata": {},
   "outputs": [
    {
     "name": "stdout",
     "output_type": "stream",
     "text": [
      "The autoreload extension is already loaded. To reload it, use:\n",
      "  %reload_ext autoreload\n",
      "\u001b[34m> loading model: ../save/training/mdl=ParallelAttnTCNn°in-dims=2°te-dims=8°enc-emb=g64.g64.g64-r64.r64.r64°dec-emb=64-64°mode=pt°ef-be=0.0001°rsc=3/id=0°epoch=2.tfes\u001b[0m\n",
      "\u001b[32m> saving: ../save/experiments/mdl=ParallelAttnTCNn°in-dims=2°te-dims=8°enc-emb=g64.g64.g64-r64.r64.r64°dec-emb=64-64°mode=pt°ef-be=0.0001°rsc=3/exp_id=0°id=0°set=0@val.spm-mcmc-estw.png\u001b[0m\n",
      "\u001b[34m> loading model: ../save/training/mdl=ParallelAttnTCNn°in-dims=2°te-dims=8°enc-emb=g64.g64.g64-r64.r64.r64°dec-emb=64-64°mode=pt°ef-be=0.0001°rsc=3/id=0°epoch=2.tfes\u001b[0m\n",
      "\u001b[32m> saving: ../save/experiments/mdl=ParallelAttnTCNn°in-dims=2°te-dims=8°enc-emb=g64.g64.g64-r64.r64.r64°dec-emb=64-64°mode=pt°ef-be=0.0001°rsc=3/exp_id=1°id=0°set=0@val.spm-mcmc-estw.png\u001b[0m\n",
      "\u001b[34m> loading model: ../save/training/mdl=ParallelAttnTCNn°in-dims=2°te-dims=8°enc-emb=g64.g64.g64-r64.r64.r64°dec-emb=64-64°mode=pt°ef-be=0.0001°rsc=3/id=0°epoch=2.tfes\u001b[0m\n",
      "\u001b[32m> saving: ../save/experiments/mdl=ParallelAttnTCNn°in-dims=2°te-dims=8°enc-emb=g64.g64.g64-r64.r64.r64°dec-emb=64-64°mode=pt°ef-be=0.0001°rsc=3/exp_id=2°id=0°set=0@val.spm-mcmc-estw.png\u001b[0m\n",
      "\u001b[34m> loading model: ../save/training/mdl=ParallelAttnTCNn°in-dims=2°te-dims=8°enc-emb=g64.g64.g64-r64.r64.r64°dec-emb=64-64°mode=pt°ef-be=0.0001°rsc=3/id=0°epoch=2.tfes\u001b[0m\n",
      "\u001b[32m> saving: ../save/experiments/mdl=ParallelAttnTCNn°in-dims=2°te-dims=8°enc-emb=g64.g64.g64-r64.r64.r64°dec-emb=64-64°mode=pt°ef-be=0.0001°rsc=3/exp_id=3°id=0°set=0@val.spm-mcmc-estw.png\u001b[0m\n"
     ]
    },
    {
     "data": {
      "text/plain": [
       "['../save/experiments/mdl=ParallelAttnTCNn°in-dims=2°te-dims=8°enc-emb=g64.g64.g64-r64.r64.r64°dec-emb=64-64°mode=pt°ef-be=0.0001°rsc=3/exp_id=0°id=0°set=0@val.spm-mcmc-estw.png',\n",
       " '../save/experiments/mdl=ParallelAttnTCNn°in-dims=2°te-dims=8°enc-emb=g64.g64.g64-r64.r64.r64°dec-emb=64-64°mode=pt°ef-be=0.0001°rsc=3/exp_id=1°id=0°set=0@val.spm-mcmc-estw.png',\n",
       " '../save/experiments/mdl=ParallelAttnTCNn°in-dims=2°te-dims=8°enc-emb=g64.g64.g64-r64.r64.r64°dec-emb=64-64°mode=pt°ef-be=0.0001°rsc=3/exp_id=2°id=0°set=0@val.spm-mcmc-estw.png',\n",
       " '../save/experiments/mdl=ParallelAttnTCNn°in-dims=2°te-dims=8°enc-emb=g64.g64.g64-r64.r64.r64°dec-emb=64-64°mode=pt°ef-be=0.0001°rsc=3/exp_id=3°id=0°set=0@val.spm-mcmc-estw.png']"
      ]
     },
     "execution_count": 15,
     "metadata": {},
     "output_type": "execute_result"
    }
   ],
   "source": [
    "%load_ext autoreload\n",
    "%autoreload 2\n",
    "import lcclassifier.experiments.images as exp_img\n",
    "\n",
    "### perform the experiments\n",
    "exp_kwargs = {\n",
    "    'save_rootdir':f'../save/experiments',\n",
    "    'm':4,\n",
    "}\n",
    "#exp_img.reconstructions(model_train_handler, s_train_loader, **exp_kwargs)\n",
    "exp_img.reconstructions_m(model_train_handler, s_val_loader, **exp_kwargs)"
   ]
  },
  {
   "cell_type": "code",
   "execution_count": 28,
   "metadata": {},
   "outputs": [
    {
     "name": "stdout",
     "output_type": "stream",
     "text": [
      "The autoreload extension is already loaded. To reload it, use:\n",
      "  %reload_ext autoreload\n",
      "\u001b[34m> loading model: ../save/training/mdl=ParallelAttnTCNn°in-dims=2°te-dims=8°enc-emb=g64.g64.g64-r64.r64.r64°dec-emb=64-64°mode=pt°ef-be=0.0001°rsc=3/id=0°epoch=8.tfes\u001b[0m\n",
      "  2%|▏         | 1/50 [00:05,  5.02s/it, day: 2.0000/120.0000 - mse_loss: 1702.9423828125 - ase_loss: 5974.20263671875]\n",
      "{'days': array([  2.        ,   4.40816327,   6.81632653,   9.2244898 ,\n",
      "        11.63265306,  14.04081633,  16.44897959,  18.85714286,\n",
      "        21.26530612,  23.67346939,  26.08163265,  28.48979592,\n",
      "        30.89795918,  33.30612245,  35.71428571,  38.12244898,\n",
      "        40.53061224,  42.93877551,  45.34693878,  47.75510204,\n",
      "        50.16326531,  52.57142857,  54.97959184,  57.3877551 ,\n",
      "        59.79591837,  62.20408163,  64.6122449 ,  67.02040816,\n",
      "        69.42857143,  71.83673469,  74.24489796,  76.65306122,\n",
      "        79.06122449,  81.46938776,  83.87755102,  86.28571429,\n",
      "        88.69387755,  91.10204082,  93.51020408,  95.91836735,\n",
      "        98.32653061, 100.73469388, 103.14285714, 105.55102041,\n",
      "       107.95918367, 110.36734694, 112.7755102 , 115.18367347,\n",
      "       117.59183673, 120.        ]), 'days_result_df':    day          mse          ase\n",
      "0  2.0  1702.942383  5974.202637, 'complete_save_roodir': 'mdl=ParallelAttnTCNn°in-dims=2°te-dims=8°enc-emb=g64.g64.g64-r64.r64.r64°dec-emb=64-64°mode=pt°ef-be=0.0001°rsc=3', 'model_name': 'mdl=ParallelAttnTCNn°in-dims=2°te-dims=8°enc-emb=g64.g64.g64-r64.r64.r64°dec-emb=64-64', 'survey': 'alerceZTFv7.1', 'band_names': ['g', 'r'], 'class_names': ['SLSN', 'SNIa', 'SNIbc', 'allSNII'], 'parameters': 157381, 'wmse-xentropy': {'save_dict': {'info': {'save_mode': 'only_inf_loss', 'target_metric_crit': 'xentropy', 'counter_k': k(0/0), 'counter_epoch': val_epoch(0/1)»earlystop_epoch(0/20), 'best_epoch': inf, 'last_saved_filedir': None}, 'loss_df': None, 'opt_df': None, 'loss_df_epoch': None, 'metrics_df_epoch': None}, 'best_epoch': inf, 'time_per_iteration': None, 'time_per_epoch': None, 'total_time': None}}\n",
      "\u001b[32m> saving: ../save/experiments/mdl=ParallelAttnTCNn°in-dims=2°te-dims=8°enc-emb=g64.g64.g64-r64.r64.r64°dec-emb=64-64°mode=pt°ef-be=0.0001°rsc=3/id=0°set=0@val.spm-mcmc-estw.recerr\u001b[0m\n"
     ]
    }
   ],
   "source": [
    "%load_ext autoreload\n",
    "%autoreload 2\n",
    "import lcclassifier.experiments.performance as exp_perf\n",
    "\n",
    "### perform the experiments\n",
    "exp_kwargs = {\n",
    "    'save_rootdir':f'../save/experiments',\n",
    "    'target_is_onehot':False,\n",
    "}\n",
    "#exp_perf.reconstruction_along_days(model_train_handler, s_train_loader, **exp_kwargs)\n",
    "exp_perf.reconstruction_along_days(model_train_handler, s_val_loader, **exp_kwargs)"
   ]
  },
  {
   "cell_type": "code",
   "execution_count": 1,
   "metadata": {
    "scrolled": false
   },
   "outputs": [
    {
     "ename": "ModuleNotFoundError",
     "evalue": "No module named 'lcclassifier'",
     "output_type": "error",
     "traceback": [
      "\u001b[0;31m---------------------------------------------------------------------------\u001b[0m",
      "\u001b[0;31mModuleNotFoundError\u001b[0m                       Traceback (most recent call last)",
      "\u001b[0;32m<ipython-input-1-36dffa37774f>\u001b[0m in \u001b[0;36m<module>\u001b[0;34m\u001b[0m\n\u001b[1;32m      1\u001b[0m \u001b[0mget_ipython\u001b[0m\u001b[0;34m(\u001b[0m\u001b[0;34m)\u001b[0m\u001b[0;34m.\u001b[0m\u001b[0mrun_line_magic\u001b[0m\u001b[0;34m(\u001b[0m\u001b[0;34m'load_ext'\u001b[0m\u001b[0;34m,\u001b[0m \u001b[0;34m'autoreload'\u001b[0m\u001b[0;34m)\u001b[0m\u001b[0;34m\u001b[0m\u001b[0;34m\u001b[0m\u001b[0m\n\u001b[1;32m      2\u001b[0m \u001b[0mget_ipython\u001b[0m\u001b[0;34m(\u001b[0m\u001b[0;34m)\u001b[0m\u001b[0;34m.\u001b[0m\u001b[0mrun_line_magic\u001b[0m\u001b[0;34m(\u001b[0m\u001b[0;34m'autoreload'\u001b[0m\u001b[0;34m,\u001b[0m \u001b[0;34m'2'\u001b[0m\u001b[0;34m)\u001b[0m\u001b[0;34m\u001b[0m\u001b[0;34m\u001b[0m\u001b[0m\n\u001b[0;32m----> 3\u001b[0;31m \u001b[0;32mimport\u001b[0m \u001b[0mlcclassifier\u001b[0m\u001b[0;34m.\u001b[0m\u001b[0mexperiments\u001b[0m\u001b[0;34m.\u001b[0m\u001b[0mperformance\u001b[0m \u001b[0;32mas\u001b[0m \u001b[0mexp_perf\u001b[0m\u001b[0;34m\u001b[0m\u001b[0;34m\u001b[0m\u001b[0m\n\u001b[0m\u001b[1;32m      4\u001b[0m \u001b[0;34m\u001b[0m\u001b[0m\n\u001b[1;32m      5\u001b[0m \u001b[0;31m### perform the experiments\u001b[0m\u001b[0;34m\u001b[0m\u001b[0;34m\u001b[0m\u001b[0;34m\u001b[0m\u001b[0m\n",
      "\u001b[0;31mModuleNotFoundError\u001b[0m: No module named 'lcclassifier'"
     ]
    }
   ],
   "source": [
    "%load_ext autoreload\n",
    "%autoreload 2\n",
    "import lcclassifier.experiments.performance as exp_perf\n",
    "\n",
    "### perform the experiments\n",
    "exp_kwargs = {\n",
    "    'save_rootdir':f'../save/experiments',\n",
    "    'target_is_onehot':False,\n",
    "}\n",
    "#exp_perf.metrics_along_days(model_train_handler, s_val_loader, **exp_kwargs)\n",
    "exp_perf.metrics_along_days(model_train_handler, s_val_loader, **exp_kwargs)"
   ]
  }
 ],
 "metadata": {
  "kernelspec": {
   "display_name": "Python 3",
   "language": "python",
   "name": "python3"
  },
  "language_info": {
   "codemirror_mode": {
    "name": "ipython",
    "version": 3
   },
   "file_extension": ".py",
   "mimetype": "text/x-python",
   "name": "python",
   "nbconvert_exporter": "python",
   "pygments_lexer": "ipython3",
   "version": "3.7.9"
  }
 },
 "nbformat": 4,
 "nbformat_minor": 2
}
