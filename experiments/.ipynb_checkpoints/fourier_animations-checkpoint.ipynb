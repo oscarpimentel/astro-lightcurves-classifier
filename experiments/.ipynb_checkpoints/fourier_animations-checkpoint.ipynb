{
 "cells": [
  {
   "cell_type": "code",
   "execution_count": 1,
   "metadata": {},
   "outputs": [],
   "source": [
    "import sys\n",
    "sys.path.append('../') # or just install the module\n",
    "sys.path.append('../../fuzzy-torch') # or just install the module\n",
    "sys.path.append('../../fuzzy-tools') # or just install the module\n",
    "sys.path.append('../../astro-lightcurves-handler') # or just install the module"
   ]
  },
  {
   "cell_type": "code",
   "execution_count": 2,
   "metadata": {},
   "outputs": [],
   "source": [
    "import numpy as np\n",
    "import matplotlib.pyplot as plt\n",
    "from fuzzytools.matplotlib.animators import PlotAnimator\n",
    "\n",
    "def get_random_f(T):\n",
    "    a, b = np.random.uniform(-1, 1, size=(2))\n",
    "    return get_fourier_serie(a,b,T)\n",
    "\n",
    "def get_fourier_serie(a, b, T):\n",
    "    return a*np.sin(2*np.pi*t/T)+b*np.cos(2*np.pi*t/T)\n",
    "\n",
    "tmax = 100*1.5\n",
    "m = 20\n",
    "animator = PlotAnimator(10,\n",
    "    init_offset=0,\n",
    "    end_offset=0,\n",
    "    #is_dummy=True,\n",
    "    )\n",
    "k = 10\n",
    "for _ in range(0, k):\n",
    "    fig, ax = plt.subplots(1,1, figsize=(10,4), dpi=100)\n",
    "    t = np.linspace(0, tmax, 1000)\n",
    "    alpha = sum([get_random_f(tmax*1/(i+1)) for i in range(0, m)])\n",
    "    beta = sum([get_random_f(tmax*1/(i+1)) for i in range(0, m)])\n",
    "    ax.plot(t, alpha, 'r', label='scale')\n",
    "    ax.plot(t, beta, 'g', label='bias')\n",
    "    ax.set_title(f'm={m}')\n",
    "    ax.grid(alpha=0.5)\n",
    "    ax.legend(loc='upper left')\n",
    "    ax.set_ylim([-5, 5])\n",
    "    ax.set_xlim([0, tmax])\n",
    "    ax.set_xlabel('time [days]')\n",
    "    animator.append(fig)\n",
    "    \n",
    "animator.save(f'../temp/fourier~m={m}.gif')"
   ]
  },
  {
   "cell_type": "code",
   "execution_count": null,
   "metadata": {},
   "outputs": [],
   "source": [
    "assert 0"
   ]
  },
  {
   "cell_type": "code",
   "execution_count": 3,
   "metadata": {},
   "outputs": [
    {
     "ename": "ModuleNotFoundError",
     "evalue": "No module named 'torch'",
     "output_type": "error",
     "traceback": [
      "\u001b[0;31m---------------------------------------------------------------------------\u001b[0m",
      "\u001b[0;31mModuleNotFoundError\u001b[0m                       Traceback (most recent call last)",
      "\u001b[0;32m<ipython-input-3-505a6f0910cb>\u001b[0m in \u001b[0;36m<module>\u001b[0;34m\u001b[0m\n\u001b[1;32m      1\u001b[0m \u001b[0;32mimport\u001b[0m \u001b[0mnumpy\u001b[0m \u001b[0;32mas\u001b[0m \u001b[0mnp\u001b[0m\u001b[0;34m\u001b[0m\u001b[0;34m\u001b[0m\u001b[0m\n\u001b[1;32m      2\u001b[0m \u001b[0;32mimport\u001b[0m \u001b[0mmatplotlib\u001b[0m\u001b[0;34m.\u001b[0m\u001b[0mpyplot\u001b[0m \u001b[0;32mas\u001b[0m \u001b[0mplt\u001b[0m\u001b[0;34m\u001b[0m\u001b[0;34m\u001b[0m\u001b[0m\n\u001b[0;32m----> 3\u001b[0;31m \u001b[0;32mimport\u001b[0m \u001b[0mtorch\u001b[0m\u001b[0;34m\u001b[0m\u001b[0;34m\u001b[0m\u001b[0m\n\u001b[0m\u001b[1;32m      4\u001b[0m \u001b[0;32mimport\u001b[0m \u001b[0mmath\u001b[0m\u001b[0;34m\u001b[0m\u001b[0;34m\u001b[0m\u001b[0m\n\u001b[1;32m      5\u001b[0m \u001b[0;34m\u001b[0m\u001b[0m\n",
      "\u001b[0;31mModuleNotFoundError\u001b[0m: No module named 'torch'"
     ]
    }
   ],
   "source": [
    "import numpy as np\n",
    "import matplotlib.pyplot as plt\n",
    "import torch\n",
    "import math\n",
    "\n",
    "dims = 12\n",
    "max_te_period = 125\n",
    "def generate_initial_tensors():\n",
    "    n = dims//2\n",
    "    periods = np.repeat(np.array([max_te_period/(i+1) for i in np.arange(n)]), 2, axis=0).astype(np.float32)\n",
    "    phases = np.array([math.pi/2 if i%2==0 else 0 for i in range(0, 2*n)]).astype(np.float32)\n",
    "    return periods, phases\n",
    "    \n",
    "def _te(te_ws, te_phases, te_scales, time):\n",
    "    '''\n",
    "    te_ws (f)\n",
    "    te_phases (f)\n",
    "    time (b,t)\n",
    "    '''\n",
    "    b,t = time.size()\n",
    "    encoding = torch.zeros((b, t, len(te_phases)), device=time.device) # (b,t,f)\n",
    "    for i in range(0, len(te_ws)):\n",
    "        w = te_ws[i]\n",
    "        phi = te_phases[i]\n",
    "        scale = te_scales[i]\n",
    "        encoding[...,i] = scale*torch.sin(w*time+phi)\n",
    "    return encoding\n",
    "\n",
    "te_ws, te_phases = generate_initial_tensors()\n",
    "te_scales = self.get_te_gate()\n",
    "time = torch.Tensor([0, 10, 20, 50, 80])[None,:,None]\n",
    "print(time.shape)\n",
    "encoding = _te(te_ws, te_phases, te_scales, time)\n",
    "print(encoding.shape)"
   ]
  },
  {
   "cell_type": "code",
   "execution_count": null,
   "metadata": {},
   "outputs": [],
   "source": [
    "n = 6\n",
    "k_exp = 1e-1\n",
    "a = np.array([math.exp(-math.floor(i/2)*k_exp) for i in range(0, 2*n)]).astype(np.float32)\n",
    "a"
   ]
  },
  {
   "cell_type": "code",
   "execution_count": null,
   "metadata": {},
   "outputs": [],
   "source": [
    "import torch\n",
    "\n",
    "time_dropout = 0.1\n",
    "x = torch.Tensor([1,2,3,4,5,6])\n",
    "print(x)\n",
    "valid_mask = torch.bernoulli(torch.full(x.shape, fill_value=time_dropout, device=x.device)).bool()\n",
    "print(valid_mask)\n",
    "x = x.masked_fill(valid_mask, -1)\n",
    "print(x)"
   ]
  },
  {
   "cell_type": "code",
   "execution_count": null,
   "metadata": {},
   "outputs": [],
   "source": [
    "assert 'fixme'"
   ]
  }
 ],
 "metadata": {
  "kernelspec": {
   "display_name": "Python 3",
   "language": "python",
   "name": "python3"
  },
  "language_info": {
   "codemirror_mode": {
    "name": "ipython",
    "version": 3
   },
   "file_extension": ".py",
   "mimetype": "text/x-python",
   "name": "python",
   "nbconvert_exporter": "python",
   "pygments_lexer": "ipython3",
   "version": "3.7.10"
  }
 },
 "nbformat": 4,
 "nbformat_minor": 4
}
