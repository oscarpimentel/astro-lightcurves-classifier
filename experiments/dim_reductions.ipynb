{
 "cells": [
  {
   "cell_type": "code",
   "execution_count": null,
   "id": "6982036a",
   "metadata": {},
   "outputs": [],
   "source": [
    "import sys\n",
    "sys.path.append('../') # or just install the module\n",
    "sys.path.append('../../fuzzy-torch') # or just install the module\n",
    "sys.path.append('../../fuzzy-tools') # or just install the module\n",
    "sys.path.append('../../astro-lightcurves-handler') # or just install the module"
   ]
  },
  {
   "cell_type": "code",
   "execution_count": null,
   "id": "b2688d6d",
   "metadata": {},
   "outputs": [],
   "source": [
    "%load_ext autoreload\n",
    "%autoreload 2\n",
    "from lcclassifier.results.utils import get_model_names\n",
    "\n",
    "rootdir = '../save'\n",
    "lcset_name = 'test'\n",
    "method = 'spm-mcmc-estw'\n",
    "cfilename = f'survey=alerceZTFv7.1~bands=gr~mode=onlySNe~method={method}'\n",
    "kf = '2'\n",
    "mid = '1000'\n",
    "\n",
    "model_names = get_model_names(rootdir, cfilename, kf, lcset_name)\n",
    "model_names"
   ]
  },
  {
   "cell_type": "code",
   "execution_count": null,
   "id": "1a39c381",
   "metadata": {},
   "outputs": [],
   "source": [
    "%load_ext autoreload\n",
    "%autoreload 2\n",
    "import fuzzytools.files as files\n",
    "import matplotlib.pyplot as plt\n",
    "from fuzzytools.matplotlib.scatters import scatter\n",
    "from fuzzytools.matplotlib.lims import AxisLims\n",
    "from fuzzytools.matplotlib.animators import PlotAnimator\n",
    "import numpy as np\n",
    "from lcclassifier._C import CLASSES_STYLES\n",
    "from copy import copy, deepcopy\n",
    "from lchandler.results import utils as utils\n",
    "\n",
    "for model_enc_key in ['encz_last', 'encz_pre_last']:\n",
    "    print(f'{model_enc_key}; kf={kf}; mid={mid}')\n",
    "    model_name = 'mdl=SerialTimeModAttn~input_dims=1~dummy_seft=1~m=24~kernel_size=1~heads=8~time_noise_window=6*24**-1~enc_emb=128-128~dec_emb=g1-g128.r1-r128~b=203~pb=.~hr=0~bypass_synth=0~bypass_prob=0.0~ds_prob=0.1'\n",
    "    filedir = f'../save/{model_name}/pre-training/dim_reductions/{cfilename}/{kf}@test/id={mid}~model_enc_key={model_enc_key}.d'\n",
    "    d = files.load_pickle(filedir)\n",
    "    thdays = d['thdays']\n",
    "\n",
    "    plot_animator = PlotAnimator(f'../temp/exp=umap~kf={kf}~mid={mid}~model_enc_key={model_enc_key}.gif',\n",
    "        save_frames=True,\n",
    "        )\n",
    "    axis_lims = AxisLims({'x':(None, None), 'y':(None, None)},\n",
    "        axis_extended_percent=0.01,                \n",
    "        )\n",
    "    for thday in thdays:\n",
    "        axis_lims.append('x', d['days_dim_reductions'][thday][:,0])\n",
    "        axis_lims.append('y', d['days_dim_reductions'][thday][:,1])\n",
    "\n",
    "    figsize = (8,8)\n",
    "    dpi = 200\n",
    "    for thday in thdays[::1]:\n",
    "        x = d['days_dim_reductions'][thday]\n",
    "        y = d['days_y_true'][thday]\n",
    "        class_names = d['class_names']\n",
    "        _, counts = np.unique(y, return_counts=True)\n",
    "        fig, ax = plt.subplots(1, 1, figsize=figsize, dpi=dpi)\n",
    "        scatter_kwargs = {}\n",
    "        for kc,c in enumerate(class_names):\n",
    "            scatter_kwargs[c] = {\n",
    "                's':32*CLASSES_STYLES[c]['markerprop'],\n",
    "                'color':get_scaled_color(CLASSES_STYLES[c]['c'], *2.5) if c=='SNIa' else CLASSES_STYLES[c]['c'],\n",
    "                'marker':CLASSES_STYLES[c]['marker'],\n",
    "                'linewidth':0,\n",
    "                'label':c.replace('*', ''),\n",
    "                }\n",
    "        scatter(ax, x, y, class_names, scatter_kwargs, label_format='{label} ({count})')\n",
    "        title = ''\n",
    "        title += f'{utils.get_fmodel_name(model_name)}'+'\\n'\n",
    "        title += f'th-day={thday:.0f} [days]'+'\\n'\n",
    "        ax.set_title(title[:-1])\n",
    "        ax.legend(loc='upper right')\n",
    "        axis_lims.set_ax_axis_lims(ax)\n",
    "        ax.grid(alpha=0.0)\n",
    "        plot_animator.append(fig)\n",
    "        fig.tight_layout()\n",
    "        plt.show()\n",
    "        #assert 0\n",
    "    plot_animator.save()"
   ]
  }
 ],
 "metadata": {
  "kernelspec": {
   "display_name": "Python 3",
   "language": "python",
   "name": "python3"
  },
  "language_info": {
   "codemirror_mode": {
    "name": "ipython",
    "version": 3
   },
   "file_extension": ".py",
   "mimetype": "text/x-python",
   "name": "python",
   "nbconvert_exporter": "python",
   "pygments_lexer": "ipython3",
   "version": "3.7.10"
  }
 },
 "nbformat": 4,
 "nbformat_minor": 5
}
