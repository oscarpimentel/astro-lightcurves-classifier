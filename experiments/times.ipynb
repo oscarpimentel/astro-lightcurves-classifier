{
 "cells": [
  {
   "cell_type": "markdown",
   "id": "a424200d",
   "metadata": {},
   "source": [
    "time results must be computed carefully!"
   ]
  },
  {
   "cell_type": "code",
   "execution_count": 2,
   "id": "4f92aec2",
   "metadata": {},
   "outputs": [],
   "source": [
    "import sys\n",
    "sys.path.append('../') # or just install the module\n",
    "sys.path.append('../../fuzzy-torch') # or just install the module\n",
    "sys.path.append('../../fuzzy-tools') # or just install the module\n",
    "sys.path.append('../../astro-lightcurves-handler') # or just install the module"
   ]
  },
  {
   "cell_type": "code",
   "execution_count": null,
   "id": "e24c367e",
   "metadata": {},
   "outputs": [],
   "source": [
    "%load_ext autoreload\n",
    "%autoreload 2\n",
    "from lcclassifier.results.utils import get_model_names\n",
    "\n",
    "set_name = 'test'\n",
    "rootdir = '../save'\n",
    "method = 'spm-mcmc-estw'\n",
    "cfilename = f'survey=alerceZTFv7.1~bands=gr~mode=onlySNe~method={method}'\n",
    "kf = '.'\n",
    "\n",
    "model_names = get_model_names(rootdir, cfilename, kf, set_name)\n",
    "model_names"
   ]
  },
  {
   "cell_type": "code",
   "execution_count": null,
   "id": "4820f9a0",
   "metadata": {},
   "outputs": [],
   "source": [
    "%load_ext autoreload\n",
    "%autoreload 2\n",
    "from lcclassifier.results.tables import get_ps_times_df\n",
    "from fuzzytools.latex.latex_tables import LatexTable\n",
    "from fuzzytools.lists import get_min_elements\n",
    "\n",
    "info_df = get_ps_times_df(rootdir, cfilename, method, model_names)\n",
    "for k in range(0, len(info_df)):\n",
    "    info_df.indexs[k] = info_df.indexs[k].replace('=', '***').replace('Models***', 'Models=')\n",
    "display(info_df())\n",
    "\n",
    "caption = ''\n",
    "caption += f'Training optimization times from all autoencoder models iterations. Validation set evaluation is included in total time.'\n",
    "latex_kwargs = {\n",
    "    #'centered':\n",
    "    'caption':caption,\n",
    "    'label':'times.tab',\n",
    "    #'bold_axis':'columns',\n",
    "    #'hline_k':3,\n",
    "    'repr_replace_dict':{'***':'='},\n",
    "    'bold_function':get_min_elements,\n",
    "}\n",
    "latex_table = LatexTable(info_df(), **latex_kwargs)\n",
    "print(latex_table)"
   ]
  }
 ],
 "metadata": {
  "kernelspec": {
   "display_name": "Python 3",
   "language": "python",
   "name": "python3"
  },
  "language_info": {
   "codemirror_mode": {
    "name": "ipython",
    "version": 3
   },
   "file_extension": ".py",
   "mimetype": "text/x-python",
   "name": "python",
   "nbconvert_exporter": "python",
   "pygments_lexer": "ipython3",
   "version": "3.7.10"
  }
 },
 "nbformat": 4,
 "nbformat_minor": 5
}
