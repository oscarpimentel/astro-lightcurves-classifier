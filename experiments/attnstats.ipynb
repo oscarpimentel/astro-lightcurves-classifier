{
 "cells": [
  {
   "cell_type": "code",
   "execution_count": null,
   "metadata": {},
   "outputs": [],
   "source": [
    "import sys\n",
    "sys.path.append('../') # or just install the module\n",
    "sys.path.append('../../fuzzy-torch') # or just install the module\n",
    "sys.path.append('../../fuzzy-tools') # or just install the module\n",
    "sys.path.append('../../astro-lightcurves-handler') # or just install the module"
   ]
  },
  {
   "cell_type": "code",
   "execution_count": null,
   "metadata": {},
   "outputs": [],
   "source": [
    "%load_ext autoreload\n",
    "%autoreload 2\n",
    "from lcclassifier.results.utils import get_model_names\n",
    "\n",
    "rootdir = '../save'\n",
    "lcset_name = 'test'\n",
    "method = 'spm-mcmc-estw'\n",
    "cfilename = f'survey=alerceZTFv7.1~bands=gr~mode=onlySNe~method={method}'\n",
    "kf = '.'\n",
    "\n",
    "model_names = get_model_names(rootdir, cfilename, kf, lcset_name)\n",
    "model_names"
   ]
  },
  {
   "cell_type": "code",
   "execution_count": null,
   "metadata": {},
   "outputs": [],
   "source": [
    "%load_ext autoreload\n",
    "%autoreload 2\n",
    "import lcclassifier.results.attnstats as attnstats\n",
    "\n",
    "kwargs = {\n",
    "    'n_bins':125,\n",
    "    'bins_xrange':[-20, 60],\n",
    "    'bins_yrange':[-.06, .06],\n",
    "}\n",
    "#lcset_name = f'train.{method}'\n",
    "lcset_name = f'test'\n",
    "#for attn_th in [.25, .5, .75, .8]:\n",
    "for attn_th in [.75]:\n",
    "    attnstats.plot_slope_distance_attnstats(rootdir, cfilename, kf, lcset_name, model_names,\n",
    "        attn_th=attn_th,\n",
    "        dj=3, # 2 3\n",
    "        distance_mode='mean', # local mean median \n",
    "        **kwargs,\n",
    "        )"
   ]
  }
 ],
 "metadata": {
  "kernelspec": {
   "display_name": "Python 3",
   "language": "python",
   "name": "python3"
  },
  "language_info": {
   "codemirror_mode": {
    "name": "ipython",
    "version": 3
   },
   "file_extension": ".py",
   "mimetype": "text/x-python",
   "name": "python",
   "nbconvert_exporter": "python",
   "pygments_lexer": "ipython3",
   "version": "3.7.10"
  }
 },
 "nbformat": 4,
 "nbformat_minor": 4
}
